{
 "cells": [
  {
   "cell_type": "markdown",
   "metadata": {},
   "source": [
    "目标：了解有哪些数据结构和算法，主要做简单题，熟练掌握基本的技巧"
   ]
  },
  {
   "cell_type": "markdown",
   "metadata": {},
   "source": [
    "链表天生适合迭代，树天生适合递归！（注意：并不是说链表只能用迭代，树只能用递归）"
   ]
  },
  {
   "cell_type": "markdown",
   "metadata": {},
   "source": [
    "# 一、数据结构"
   ]
  },
  {
   "cell_type": "markdown",
   "metadata": {},
   "source": [
    "## 1.1 数组"
   ]
  },
  {
   "cell_type": "markdown",
   "metadata": {},
   "source": [
    "* [移除元素](https://leetcode.cn/problems/remove-element/)"
   ]
  },
  {
   "cell_type": "markdown",
   "metadata": {},
   "source": [
    "给你一个数组 nums 和一个值 val，你需要 **原地** 移除所有数值等于 val 的元素。元素的顺序可能发生改变。然后返回 nums 中与 val 不同的元素的数量。\n",
    "\n",
    "假设 nums 中不等于 val 的元素数量为 k，要通过此题，您需要执行以下操作：\n",
    "\n",
    "更改 nums 数组，使 nums 的前 k 个元素包含不等于 val 的元素。nums 的其余元素和 nums 的大小并不重要。\n",
    "返回 k。"
   ]
  },
  {
   "cell_type": "code",
   "execution_count": 3,
   "metadata": {},
   "outputs": [
    {
     "name": "stdout",
     "output_type": "stream",
     "text": [
      "4\n"
     ]
    }
   ],
   "source": [
    "def removeElement(nums: list[int], val: int) -> int:\n",
    "    slow = -1 # 慢指针\n",
    "    fast = 0 # 快指针\n",
    "    while(fast<len(nums)):\n",
    "        if nums[fast]==val: # 找到目标值val\n",
    "            fast+=1\n",
    "        else:\n",
    "            nums[slow+1] = nums[fast]\n",
    "            slow+=1\n",
    "            fast+=1\n",
    "    return slow+1\n",
    "# 数组是连续内存空间，如果删除某元素设计到元素的移动，将增大时间复杂度。\n",
    "# 慢指针之前（包括慢指针指示位置）全部是非val数，快指针用于过滤val。\n",
    "print(removeElement(nums=[1,2,1,4,5,6], val=1))"
   ]
  },
  {
   "cell_type": "markdown",
   "metadata": {},
   "source": [
    "## 1.2 链表"
   ]
  },
  {
   "cell_type": "markdown",
   "metadata": {},
   "source": [
    "*  [反转链表](https://leetcode.cn/problems/reverse-linked-list/description/?envType=problem-list-v2&envId=linked-list) ：给你单链表的头节点 head ，请你反转链表，并返回反转后的链表。"
   ]
  },
  {
   "cell_type": "code",
   "execution_count": null,
   "metadata": {},
   "outputs": [],
   "source": [
    "def fuc(head):\n",
    "    if head == None:\n",
    "        return head\n",
    "    pre = None\n",
    "    cur = head\n",
    "    # 反转操作\n",
    "    while cur!=None:\n",
    "        temp = cur.next\n",
    "        cur.next = pre\n",
    "        pre = cur\n",
    "        cur = temp\n",
    "    return pre\n",
    "# 做题上来不要畏首畏尾考虑各种边界问题\n",
    "# 先把把关键代码写出来（就是重复操作那部分问题），不论是迭代还还是递归，肯定有重复操作。"
   ]
  },
  {
   "cell_type": "markdown",
   "metadata": {},
   "source": [
    "[旋转链表](https://leetcode.cn/problems/rotate-list/description/): 给你一个链表的头节点 head ，旋转链表，将链表每个节点向右移动 k 个位置。"
   ]
  },
  {
   "cell_type": "code",
   "execution_count": 19,
   "metadata": {},
   "outputs": [
    {
     "name": "stdout",
     "output_type": "stream",
     "text": [
      "[1, 2, 3, 4, 5]\n",
      "4\n",
      "[4, 5, 1, 2, 3]\n"
     ]
    }
   ],
   "source": [
    "class Node():\n",
    "    def __init__(self, val):\n",
    "        self.val =val\n",
    "        self.next = None\n",
    "        \n",
    "def arr2link(arr):\n",
    "    head = Node(arr[0])\n",
    "    p = head\n",
    "    for i in range(1, len(arr)):\n",
    "        p.next = Node(arr[i])\n",
    "        p=p.next\n",
    "    return head\n",
    "\n",
    "def _print(head):\n",
    "    arr =[]\n",
    "    while head!=None:\n",
    "        arr.append(head.val)\n",
    "        head = head.next\n",
    "    print(arr)\n",
    "    \n",
    "head = arr2link([1,2,3,4,5])\n",
    "\n",
    "def func(head,k):\n",
    "    if head == None or head.next == None:\n",
    "        return head\n",
    "    \n",
    "    # 获取链表长度,以及尾部指针\n",
    "    length = 1\n",
    "    p = head\n",
    "    tail = None\n",
    "    while 1:\n",
    "        if p.next == None:\n",
    "            tail = p\n",
    "            break\n",
    "        p=p.next\n",
    "        length+=1\n",
    "\n",
    "    # 计算需要移动的位置\n",
    "    k = k%length\n",
    "\n",
    "    # 找到新的头节点\n",
    "    new_head = head\n",
    "    count = 1\n",
    "    while count<length-k:\n",
    "        new_head = new_head.next\n",
    "        count+=1\n",
    "    temp = new_head.next\n",
    "    new_head.next = None\n",
    "    new_head = temp\n",
    "    print(new_head.val)\n",
    "    \n",
    "    # 缝合链表\n",
    "    tail.next = head\n",
    "    \n",
    "    return new_head\n",
    "_print(head)\n",
    "_print(func(head, k=2))"
   ]
  },
  {
   "cell_type": "markdown",
   "metadata": {},
   "source": [
    "## 1.3 栈"
   ]
  },
  {
   "cell_type": "markdown",
   "metadata": {},
   "source": [
    "[括号检查](https://leetcode.cn/problems/valid-parentheses/)"
   ]
  },
  {
   "cell_type": "code",
   "execution_count": null,
   "metadata": {},
   "outputs": [],
   "source": [
    "def isValid(self, s: str) -> bool:\n",
    "        if len(s)<=1:\n",
    "            return False\n",
    "        stack = []\n",
    "        for i in range(0,len(s)):\n",
    "            if len(stack)==0:\n",
    "                stack.append(s[i])\n",
    "            elif stack[-1]+s[i] in [\"[]\",\"{}\",\"()\"]:\n",
    "                stack.pop()\n",
    "            else:\n",
    "                stack.append(s[i])\n",
    "        return True if len(stack)==0 else False"
   ]
  },
  {
   "cell_type": "markdown",
   "metadata": {},
   "source": [
    "# 二、算法"
   ]
  },
  {
   "cell_type": "markdown",
   "metadata": {},
   "source": [
    "## 2.1 分治"
   ]
  },
  {
   "cell_type": "markdown",
   "metadata": {},
   "source": [
    "基于分治实现的二分查找"
   ]
  },
  {
   "cell_type": "code",
   "execution_count": 35,
   "metadata": {},
   "outputs": [
    {
     "name": "stdout",
     "output_type": "stream",
     "text": [
      "0\n"
     ]
    }
   ],
   "source": [
    "def binary_search(nums, target, i ,j):\n",
    "    if i>j:\n",
    "        return -1\n",
    "    mid = (i+j)//2\n",
    "    if nums[mid]<target:\n",
    "        return binary_search(nums, target, mid+1, j)\n",
    "    elif nums[mid]>target:\n",
    "        return binary_search(nums,target, i, mid-1)\n",
    "    else:\n",
    "        return mid\n",
    "print(binary_search([1,2,3,4], 1, 0, 3))"
   ]
  },
  {
   "cell_type": "markdown",
   "metadata": {},
   "source": [
    "给定一棵二叉树的前序遍历 preorder 和中序遍历 inorder ，请从中构建二叉树，返回二叉树的根节点。假设二叉树中没有值重复的节点（如图 12-5 所示）。"
   ]
  },
  {
   "cell_type": "markdown",
   "metadata": {},
   "source": [
    "## 2.2 回溯"
   ]
  },
  {
   "cell_type": "markdown",
   "metadata": {},
   "source": [
    "* 回溯算法（backtracking algorithm）是一种通过穷举来解决问题的方法，它的核心思想是从一个初始状态出发，暴力搜索所有可能的解决方案，当遇到正确的解则将其记录，直到找到解或者尝试了所有可能的选择都无法找到解为止。回溯算法通常采用“深度优先搜索”来遍历解空间。在“二叉树”章节中，我们提到前序、中序和后序遍历都属于深度优先搜索。接下来，我们利用前序遍历构造一个回溯问题，逐步了解回溯算法的工作原理。"
   ]
  },
  {
   "cell_type": "code",
   "execution_count": 13,
   "metadata": {},
   "outputs": [],
   "source": [
    "# 定义二叉树\n",
    "class Node:\n",
    "    def __init__(self,v, ln=None, rn=None):\n",
    "        self.left_node = ln\n",
    "        self.right_node = rn\n",
    "        self.val = v\n",
    "\n",
    "    def __str__(self):\n",
    "        return f\"node:{self.val}\"\n",
    "node1 = Node(1)\n",
    "node2 = Node(2)\n",
    "node3 = Node(3)\n",
    "node4 = Node(4)\n",
    "node5 = Node(5)\n",
    "node6 = Node(6)\n",
    "node7 = Node(7)\n",
    "node1.left_node = node2\n",
    "node1.right_node = node3\n",
    "node2.left_node = node4\n",
    "node2.right_node = node5\n",
    "node3.left_node = node6\n",
    "node3.right_node = node7"
   ]
  },
  {
   "cell_type": "markdown",
   "metadata": {},
   "source": [
    "先序遍历二叉树并记录访问顺序"
   ]
  },
  {
   "cell_type": "code",
   "execution_count": 14,
   "metadata": {},
   "outputs": [
    {
     "name": "stdout",
     "output_type": "stream",
     "text": [
      "['node:1', 'node:2', 'node:4', 'node:5', 'node:3', 'node:6', 'node:7']\n"
     ]
    }
   ],
   "source": [
    "def pre_traverse(root, path):\n",
    "    if root == None: # 程序出口\n",
    "        return \n",
    "    # 进入当前节点是执行的操作\n",
    "    path.append(str(root)) \n",
    "    pre_traverse(root.left_node, path)\n",
    "    pre_traverse(root.right_node, path)\n",
    "    return path\n",
    "print(pre_traverse(node1,[]))"
   ]
  },
  {
   "cell_type": "markdown",
   "metadata": {},
   "source": [
    "返回目标值的node"
   ]
  },
  {
   "cell_type": "code",
   "execution_count": 18,
   "metadata": {},
   "outputs": [
    {
     "name": "stdout",
     "output_type": "stream",
     "text": [
      "['node:5', 'node:6']\n"
     ]
    }
   ],
   "source": [
    "def pre_traverse(root, target, res):\n",
    "    if root == None: # 递归出口\n",
    "        return \n",
    "    # 进入当前节点是执行的操作\n",
    "    if root.val in target:\n",
    "        res.append(str(root))\n",
    "    pre_traverse(root.left_node, target, res)\n",
    "    pre_traverse(root.right_node, target, res)\n",
    "res = []\n",
    "pre_traverse(node1,[5,6], res=res)\n",
    "print(res)"
   ]
  },
  {
   "cell_type": "markdown",
   "metadata": {},
   "source": [
    "返回根节点到目标值的路径"
   ]
  },
  {
   "cell_type": "code",
   "execution_count": 23,
   "metadata": {},
   "outputs": [
    {
     "name": "stdout",
     "output_type": "stream",
     "text": [
      "[[1, 2, 5], [1, 3, 6]]\n"
     ]
    }
   ],
   "source": [
    "def pre_traverse(root, path, target, res):\n",
    "    if root == None:\n",
    "        return \n",
    "    # 进入当前节点的操作：记录路径、满足条件就放到res里\n",
    "    path.append(root.val)\n",
    "    if root.val in target:\n",
    "        res.append(list(path))\n",
    "    # 递归处理下一个节点\n",
    "    pre_traverse(root.left_node, path, target, res)\n",
    "    pre_traverse(root.right_node, path, target, res)\n",
    "    # 当前节点处理完毕，返回到父节点时候，应该执行pop操作\n",
    "    path.pop()\n",
    "\n",
    "res = []\n",
    "pre_traverse(node1, [], [5,6],res)\n",
    "print(res)\n",
    "    "
   ]
  },
  {
   "cell_type": "markdown",
   "metadata": {},
   "source": [
    "回溯算法还是对递归暴力搜索的优化：**进入当前节点的时候记得处理业务操作**，这里就是添加路径，另外还有可能发现当前节点不符合要求就不必继续执行了，这就是**剪枝**，从而优化处理过程；**递归处理子任务**，注意子任务的输入，是否有变化；**离开当前节点的时候要处理好收尾工作**，这里就是把当前节点出栈，因为当前程序马上就要返回到当前节点的父节点了。"
   ]
  },
  {
   "cell_type": "markdown",
   "metadata": {},
   "source": [
    "接下来用回溯算法解两道题："
   ]
  },
  {
   "cell_type": "markdown",
   "metadata": {},
   "source": [
    "* [D-083. 全排列](https://leetcode.cn/problems/VvJkup/)： 定一个不含重复数字的整数数组 nums ，返回其 所有可能的全排列 。可以 按任意顺序 返回答案。"
   ]
  },
  {
   "cell_type": "code",
   "execution_count": null,
   "metadata": {},
   "outputs": [
    {
     "name": "stdout",
     "output_type": "stream",
     "text": [
      "[[1, 2, 1], [1, 1, 2], [2, 1, 1], [2, 1, 1], [1, 1, 2], [1, 2, 1]]\n"
     ]
    }
   ],
   "source": [
    "# 第一：先分析这一个重复子问题，可以用递归，写出暴力解法。叶子节点上没有重复解，无需剪枝，直接通过\n",
    "def permute(choices):\n",
    "    if len(choices)<=1:\n",
    "        return [choices]\n",
    "    result = []\n",
    "    for i, c in enumerate(choices):\n",
    "        res_choices = choices[:i]+choices[i+1:] # 进入某一节点后执行的操作\n",
    "        for p in permute(res_choices):\n",
    "            result.append([c]+p)\n",
    "    return result # 退出该节点时，返回该节点的结果\n",
    "print(permute([1,2,3]))"
   ]
  },
  {
   "cell_type": "markdown",
   "metadata": {},
   "source": [
    "[全排列 II ](https://leetcode.cn/problems/7p8L0Z/): 给定一个可包含重复数字的整数集合 nums ，按任意顺序 返回它所有不重复的全排列。"
   ]
  },
  {
   "cell_type": "code",
   "execution_count": 24,
   "metadata": {},
   "outputs": [
    {
     "name": "stdout",
     "output_type": "stream",
     "text": [
      "[[1, 2, 1], [1, 1, 2], [2, 1, 1]]\n"
     ]
    }
   ],
   "source": [
    "def permute(choices):\n",
    "    if len(choices)<=1:\n",
    "        return [choices]\n",
    "    result = []\n",
    "    duplicated = set() # 为剪枝开辟的mem\n",
    "    for i, c in enumerate(choices):\n",
    "        if c not in duplicated: # 剪枝\n",
    "            duplicated.add(c)\n",
    "            res_choices = choices[:i]+choices[i+1:] # 进入某一节点后执行的操作\n",
    "            for p in permute(res_choices):\n",
    "                result.append([c]+p )\n",
    "    return result # 退出该节点时，返回该节点的结果\n",
    "print(permute([1,2,1]))"
   ]
  },
  {
   "cell_type": "markdown",
   "metadata": {},
   "source": [
    "[合法括号生成](https://leetcode.cn/problems/IDBivT/description/): 正整数 n 代表生成括号的对数，请设计一个函数，用于能够生成所有可能的并且 有效的 括号组合。"
   ]
  },
  {
   "cell_type": "code",
   "execution_count": 10,
   "metadata": {},
   "outputs": [],
   "source": [
    "def isValid(s: str) -> bool:\n",
    "        if len(s)<=1:\n",
    "            return False\n",
    "        stack = []\n",
    "        for i in range(0,len(s)):\n",
    "            if len(stack)==0:\n",
    "                stack.append(s[i])\n",
    "            elif stack[-1]+s[i] in [\"[]\",\"{}\",\"()\"]:\n",
    "                stack.pop()\n",
    "            else:\n",
    "                stack.append(s[i])\n",
    "        return True if len(stack)==0 else False"
   ]
  },
  {
   "cell_type": "code",
   "execution_count": 11,
   "metadata": {},
   "outputs": [
    {
     "name": "stdout",
     "output_type": "stream",
     "text": [
      "64\n",
      "['((()))', '(()())', '(())()', '()(())', '()()()']\n"
     ]
    }
   ],
   "source": [
    "def solution(n):\n",
    "    def backtrack(s): # 暴力搜索出所有组合\n",
    "        if len(s)==2*n:\n",
    "            res.append(s)\n",
    "            return \n",
    "        for i in [\"(\",\")\"]:\n",
    "            backtrack(s+i)\n",
    "    res = []\n",
    "    backtrack(\"\")\n",
    "    print(len(res))\n",
    "    return [s for s in res if isValid(s)]\n",
    "\n",
    "print(solution(3))\n",
    "  "
   ]
  },
  {
   "cell_type": "code",
   "execution_count": null,
   "metadata": {},
   "outputs": [
    {
     "name": "stdout",
     "output_type": "stream",
     "text": [
      "20\n",
      "['((()))', '(()())', '(())()', '()(())', '()()()']\n"
     ]
    }
   ],
   "source": [
    "\n",
    "def solution(n):\n",
    "    def backtrack(s): \n",
    "        if len(s)==2*n:\n",
    "            res.append(s)\n",
    "            return \n",
    "        for i in [\"(\",\")\"]:\n",
    "            if s.count(i)<n: # 剪枝策略\n",
    "                backtrack(s+i)\n",
    "    res = []\n",
    "    backtrack(\"\")\n",
    "    print(len(res))\n",
    "    return [s for s in res if isValid(s)]\n",
    "print(solution(3))\n",
    "  "
   ]
  },
  {
   "cell_type": "markdown",
   "metadata": {},
   "source": [
    "上面的剪枝策略有效，但是还是不够完美，能不能一步到位，不依赖于`isValid()`函数，进过观察我们发现从左从左到右，\"(\" 的数量总是大于等于\")\"的数量。"
   ]
  },
  {
   "cell_type": "code",
   "execution_count": 14,
   "metadata": {},
   "outputs": [
    {
     "name": "stdout",
     "output_type": "stream",
     "text": [
      "5\n",
      "['((()))', '(()())', '(())()', '()(())', '()()()']\n"
     ]
    }
   ],
   "source": [
    "def solution(n):\n",
    "    def backtrack(s): \n",
    "        if len(s)==2*n:\n",
    "            res.append(s)\n",
    "            return \n",
    "        for i in [\"(\",\")\"]:\n",
    "            new_s = s+i\n",
    "            if new_s.count(\"(\")>=new_s.count(\")\") and new_s.count(\"(\")<=n: # 剪枝策略\n",
    "                backtrack(new_s)\n",
    "    res = []\n",
    "    backtrack(\"\")\n",
    "    print(len(res))\n",
    "    return res\n",
    "print(solution(3))"
   ]
  },
  {
   "cell_type": "markdown",
   "metadata": {},
   "source": [
    "## 2.5 数学 "
   ]
  },
  {
   "cell_type": "markdown",
   "metadata": {},
   "source": [
    "### （1）[旋转矩阵](https://leetcode.cn/problems/rotate-image/)"
   ]
  },
  {
   "cell_type": "code",
   "execution_count": null,
   "metadata": {},
   "outputs": [],
   "source": [
    "\n",
    "# 先转置，在左右翻转\n",
    "def solution(matrix):\n",
    "    n = len(matrix)\n",
    "    for i in range(n):\n",
    "        for j in range(i, n):\n",
    "            matrix[i][j], matrix[j][i] = matrix[j][i], matrix[i][j]\n",
    "    for i in range(n):\n",
    "        matrix[i].reverse()"
   ]
  },
  {
   "cell_type": "markdown",
   "metadata": {},
   "source": [
    "### （2）返回区间 [2, n) 中有所有素数"
   ]
  },
  {
   "cell_type": "code",
   "execution_count": 28,
   "metadata": {},
   "outputs": [
    {
     "name": "stdout",
     "output_type": "stream",
     "text": [
      "time: 14.3439\n",
      "9592\n"
     ]
    }
   ],
   "source": [
    "import time\n",
    "\n",
    "def count_time(f):\n",
    "    def count(n):\n",
    "        t1 = time.time()\n",
    "        res = f(n)\n",
    "        t2 = time.time()\n",
    "        print(f\"time: {round(t2-t1, 4)}\") \n",
    "        return res\n",
    "    return count\n",
    "\n",
    "# 判断素数\n",
    "def isPrime(n):\n",
    "    for i in range(2,n):\n",
    "        if n%i==0:\n",
    "            return False\n",
    "    return True\n",
    "\n",
    "@count_time\n",
    "def findPrimes(n):\n",
    "    primes = []\n",
    "    for i in range(2, n):\n",
    "        if isPrime(i):\n",
    "            primes.append(i)\n",
    "    return primes\n",
    "print(len(findPrimes(100000)))"
   ]
  },
  {
   "cell_type": "markdown",
   "metadata": {},
   "source": [
    "上述算法的时间复杂度为 $O(n^2)$ 是难以接受的，我们有聪明的迭代方法吗(减少不必要的计算)？有！！！观察：\n",
    "\n",
    "$12=2*6$\n",
    "\n",
    "$12=3*4$\n",
    "\n",
    "$12=\\sqrt{12}*\\sqrt{12}$\n",
    "\n",
    "$12=4*3$\n",
    "\n",
    "$12=6*2$\n",
    "\n",
    "我们发现是对称的！！！所以判断一个数 $n$ 是不是素数我们只需要遍历到 $\\sqrt{n}$  即可，(包括 $\\sqrt{n}$ 因为要考虑到有根的情况)。"
   ]
  },
  {
   "cell_type": "code",
   "execution_count": 29,
   "metadata": {},
   "outputs": [
    {
     "name": "stdout",
     "output_type": "stream",
     "text": [
      "time: 0.5522\n",
      "9592\n"
     ]
    }
   ],
   "source": [
    "# 判断素数\n",
    "def isPrime(n):\n",
    "    i = 2\n",
    "    while i**2<=n:\n",
    "        if n%i==0:\n",
    "            return False\n",
    "        i+=1\n",
    "    return True\n",
    "\n",
    "@count_time\n",
    "def findPrimes(n):\n",
    "    primes = []\n",
    "    for i in range(2, n):\n",
    "        if isPrime(i):\n",
    "            primes.append(i)\n",
    "    return primes\n",
    "# print(findPrimes(12))\n",
    "print(len(findPrimes(100000)))"
   ]
  },
  {
   "cell_type": "markdown",
   "metadata": {},
   "source": [
    "继续优化，基本思想是：2的倍数都不是质数，3的倍数也不是质数，四的倍数也不是质数，...。\n",
    "\\begin{matrix}\n",
    "2\\times 2 & 2\\times 3 &  ... & 2\\times 11 & 2\\times 12 \\\\\n",
    "3\\times 2 & 3\\times 3 &  ... & 3\\times 11 & 3\\times 12 \\\\\n",
    "...\\\\\n",
    "11\\times 2 & 11\\times 3 & ... & 11\\times 11 & 11\\times 12 \\\\\n",
    "12\\times 2 & 12\\times 3 & ... & 12\\times 12 & 12\\times 12 \n",
    "\\end{matrix}\n",
    "所以矩阵里的元素都不是素数，但是这是个对称矩阵，可以优化。"
   ]
  },
  {
   "cell_type": "code",
   "execution_count": null,
   "metadata": {},
   "outputs": [
    {
     "name": "stdout",
     "output_type": "stream",
     "text": [
      "time: 0.0383\n",
      "9592\n"
     ]
    }
   ],
   "source": [
    "@count_time\n",
    "def findPrimes(n):\n",
    "    table = [True]*n\n",
    "    table[0], table[1] = False, False\n",
    "    for i in range(2,n):\n",
    "        j = i # 对称矩阵可以优化\n",
    "        while i*j<n: # 小于table长度\n",
    "            table[i*j]=False\n",
    "            j+=1                \n",
    "    return table\n",
    "print(sum(findPrimes(100000)))"
   ]
  },
  {
   "cell_type": "markdown",
   "metadata": {},
   "source": [
    "这样就可以了？以上还有重复计算，例如：\n",
    "\n",
    "上述矩阵第一行2的倍数：$2,6,8,10,12,14,16,18,20,22,24,26,28$\n",
    "\n",
    "上述矩阵第一行4的倍数：$8,12,16,20,24,28$\n",
    "\n",
    "由于4能够被2整除，所以4的倍数也是2的倍数，因此第四行重复计算了，因此我们需要去掉他"
   ]
  },
  {
   "cell_type": "code",
   "execution_count": null,
   "metadata": {},
   "outputs": [
    {
     "name": "stdout",
     "output_type": "stream",
     "text": [
      "time: 0.0173\n",
      "9592\n"
     ]
    }
   ],
   "source": [
    "@count_time\n",
    "def findPrimes(n):\n",
    "    table = [True]*n\n",
    "    table[0], table[1] = False, False\n",
    "    for i in range(2,n):\n",
    "        if table[i]: # 去掉重复计算的行\n",
    "            j = i # 对称矩阵可以优化\n",
    "            while i*j<n: # 小于table长度\n",
    "                table[i*j]=False\n",
    "                j+=1                \n",
    "    return table\n",
    "print(sum(findPrimes(100000)))"
   ]
  },
  {
   "cell_type": "markdown",
   "metadata": {},
   "source": [
    "## 2.6 字符串"
   ]
  },
  {
   "cell_type": "markdown",
   "metadata": {},
   "source": [
    "### （1）最长回文子串"
   ]
  }
 ],
 "metadata": {
  "kernelspec": {
   "display_name": "l2cvg",
   "language": "python",
   "name": "python3"
  },
  "language_info": {
   "codemirror_mode": {
    "name": "ipython",
    "version": 3
   },
   "file_extension": ".py",
   "mimetype": "text/x-python",
   "name": "python",
   "nbconvert_exporter": "python",
   "pygments_lexer": "ipython3",
   "version": "3.9.19"
  }
 },
 "nbformat": 4,
 "nbformat_minor": 2
}
