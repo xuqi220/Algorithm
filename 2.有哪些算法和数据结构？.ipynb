{
 "cells": [
  {
   "cell_type": "markdown",
   "metadata": {},
   "source": [
    "目标：了解有哪些数据结构和算法，主要做简单题，熟练掌握基本的技巧"
   ]
  },
  {
   "cell_type": "markdown",
   "metadata": {},
   "source": [
    "## 一、数据结构"
   ]
  },
  {
   "cell_type": "markdown",
   "metadata": {},
   "source": [
    "### 1.数组"
   ]
  },
  {
   "cell_type": "markdown",
   "metadata": {},
   "source": [
    "* [移除元素](https://leetcode.cn/problems/remove-element/)"
   ]
  },
  {
   "cell_type": "markdown",
   "metadata": {},
   "source": [
    "给你一个数组 nums 和一个值 val，你需要 **原地** 移除所有数值等于 val 的元素。元素的顺序可能发生改变。然后返回 nums 中与 val 不同的元素的数量。\n",
    "\n",
    "假设 nums 中不等于 val 的元素数量为 k，要通过此题，您需要执行以下操作：\n",
    "\n",
    "更改 nums 数组，使 nums 的前 k 个元素包含不等于 val 的元素。nums 的其余元素和 nums 的大小并不重要。\n",
    "返回 k。"
   ]
  },
  {
   "cell_type": "code",
   "execution_count": 3,
   "metadata": {},
   "outputs": [
    {
     "name": "stdout",
     "output_type": "stream",
     "text": [
      "4\n"
     ]
    }
   ],
   "source": [
    "def removeElement(nums: list[int], val: int) -> int:\n",
    "    slow = -1 # 慢指针\n",
    "    fast = 0 # 快指针\n",
    "    while(fast<len(nums)):\n",
    "        if nums[fast]==val: # 找到目标值val\n",
    "            fast+=1\n",
    "        else:\n",
    "            nums[slow+1] = nums[fast]\n",
    "            slow+=1\n",
    "            fast+=1\n",
    "    return slow+1\n",
    "# 数组是连续内存空间，如果删除某元素设计到元素的移动，将增大时间复杂度。\n",
    "# 慢指针之前（包括慢指针指示位置）全部是非val数，快指针用于过滤val。\n",
    "print(removeElement(nums=[1,2,1,4,5,6], val=1))"
   ]
  },
  {
   "cell_type": "markdown",
   "metadata": {},
   "source": [
    "### 2. 链表"
   ]
  },
  {
   "cell_type": "markdown",
   "metadata": {},
   "source": [
    "*  [反转链表](https://leetcode.cn/problems/reverse-linked-list/description/?envType=problem-list-v2&envId=linked-list) ：给你单链表的头节点 head ，请你反转链表，并返回反转后的链表。"
   ]
  },
  {
   "cell_type": "code",
   "execution_count": null,
   "metadata": {},
   "outputs": [],
   "source": [
    "def fuc(head):\n",
    "    if head == None:\n",
    "        return head\n",
    "    pre = None\n",
    "    cur = head\n",
    "    # 反转操作\n",
    "    while cur!=None:\n",
    "        temp = cur.next\n",
    "        cur.next = pre\n",
    "        pre = cur\n",
    "        cur = temp\n",
    "    return pre\n",
    "# 做题上来不要畏首畏尾考虑各种边界值\n",
    "# 把关键代码写出来，不论是迭代还还是递归，肯定有重复操作。"
   ]
  },
  {
   "cell_type": "markdown",
   "metadata": {},
   "source": []
  },
  {
   "cell_type": "markdown",
   "metadata": {},
   "source": [
    "## 二、算法"
   ]
  },
  {
   "cell_type": "markdown",
   "metadata": {},
   "source": [
    "### 2.1 回溯"
   ]
  },
  {
   "cell_type": "markdown",
   "metadata": {},
   "source": [
    "* [D-083. 全排列](https://leetcode.cn/problems/VvJkup/)： 定一个不含重复数字的整数数组 nums ，返回其 所有可能的全排列 。可以 按任意顺序 返回答案。"
   ]
  },
  {
   "cell_type": "code",
   "execution_count": null,
   "metadata": {},
   "outputs": [
    {
     "name": "stdout",
     "output_type": "stream",
     "text": [
      "[[1, 2, 1], [1, 1, 2], [2, 1, 1], [2, 1, 1], [1, 1, 2], [1, 2, 1]]\n"
     ]
    }
   ],
   "source": [
    "# 递归解法\n",
    "def permute(choices):\n",
    "    if len(choices)<=1:\n",
    "        return [choices]\n",
    "    result = []\n",
    "    for i, c in enumerate(choices):\n",
    "        res_choices = choices[:i]+choices[i+1:] # 进入某一节点后执行的操作\n",
    "        for p in permute(res_choices):\n",
    "            result.append([c]+p)\n",
    "    return result # 退出该节点时，返回该节点的结果\n",
    "print(permute([1,2,3]))"
   ]
  },
  {
   "cell_type": "markdown",
   "metadata": {},
   "source": [
    "[全排列 II ](https://leetcode.cn/problems/7p8L0Z/): 给定一个可包含重复数字的整数集合 nums ，按任意顺序 返回它所有不重复的全排列。"
   ]
  },
  {
   "cell_type": "code",
   "execution_count": null,
   "metadata": {},
   "outputs": [
    {
     "name": "stdout",
     "output_type": "stream",
     "text": [
      "[[1, 2, 1], [1, 1, 2], [2, 1, 1]]\n"
     ]
    }
   ],
   "source": [
    "def permute(choices):\n",
    "    if len(choices)<=1:\n",
    "        return [choices]\n",
    "    result = []\n",
    "    duplicated = set()\n",
    "    for i, c in enumerate(choices):\n",
    "        if c not in duplicated: # 剪枝\n",
    "            duplicated.add(c)\n",
    "            res_choices = choices[:i]+choices[i+1:] # 进入某一节点后执行的操作\n",
    "            for p in permute(res_choices):\n",
    "                result.append([c]+p )\n",
    "    return result # 退出该节点时，返回该节点的结果\n",
    "print(permute([1,2,1]))"
   ]
  }
 ],
 "metadata": {
  "kernelspec": {
   "display_name": "l2cvg",
   "language": "python",
   "name": "python3"
  },
  "language_info": {
   "codemirror_mode": {
    "name": "ipython",
    "version": 3
   },
   "file_extension": ".py",
   "mimetype": "text/x-python",
   "name": "python",
   "nbconvert_exporter": "python",
   "pygments_lexer": "ipython3",
   "version": "3.9.19"
  }
 },
 "nbformat": 4,
 "nbformat_minor": 2
}
