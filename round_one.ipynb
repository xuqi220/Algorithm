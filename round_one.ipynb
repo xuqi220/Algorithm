{
 "cells": [
  {
   "cell_type": "markdown",
   "metadata": {},
   "source": [
    "# 第一轮刷题"
   ]
  },
  {
   "cell_type": "markdown",
   "metadata": {},
   "source": [
    "了解有哪些数据结构和算法，主要做简单题，熟练掌握基本的技巧"
   ]
  },
  {
   "cell_type": "markdown",
   "metadata": {},
   "source": [
    "## 一、简介"
   ]
  },
  {
   "cell_type": "markdown",
   "metadata": {},
   "source": [
    "**1. 算法是什么？**"
   ]
  },
  {
   "cell_type": "markdown",
   "metadata": {},
   "source": [
    "算法就是一系列操作步骤的集合，它能够在有限的资源（时间、指令、内存）下，解决被明确定义的问题。\n",
    "* 问题被明确定义：输入是什么？输出是什么？\n",
    "* 操作步骤是确定的、明确的、有限的"
   ]
  },
  {
   "cell_type": "markdown",
   "metadata": {},
   "source": [
    "**2. 数据结构是什么？**"
   ]
  },
  {
   "cell_type": "markdown",
   "metadata": {},
   "source": [
    "数据结构定义了数据的组织方式，这种组织方式有多种实现方式。这种组织方式涵盖了数据内容、数据关系、数据行为。例如对于逻辑上的顺序结构，物理上有利用连续存储空间的数组、非连续空间的链表。其中前者用物理上的内存地址的先后顺序表示数据的先后顺序，后者采用指针表示元素的先后顺序，数据行为都包括了增删查改。"
   ]
  },
  {
   "cell_type": "markdown",
   "metadata": {},
   "source": [
    "每种数据结构都有自己的利弊，比如链表易于删除、插入，但是由于物理空间非连续其访问速度较差。每种数据结构能够经过实践的淘汰被保存下来都有它自己的用武之地，你也可以针对自己的需求设计一种自己的数据结构。"
   ]
  },
  {
   "cell_type": "markdown",
   "metadata": {},
   "source": [
    "**3. 数据结构+算法**"
   ]
  },
  {
   "cell_type": "markdown",
   "metadata": {},
   "source": [
    "两者互相依存缺一不可：数据结构是算法的基石，算法为数据结构注入灵魂；如果说数据结构是对现实世界的静态描述，那么算法就是让这个现实世界活跃起来的灵魂。好比一个厨子手拿锅、铲、调料、食材等数据，那菜谱就是他的算法。只有两者皆上等，才能做出美味的菜肴。"
   ]
  },
  {
   "cell_type": "markdown",
   "metadata": {},
   "source": [
    "**4. 复杂度分析的定义**"
   ]
  },
  {
   "cell_type": "markdown",
   "metadata": {},
   "source": [
    "厨子做出菜了，怎么评价其好坏？算法复杂度分析（时间复杂度、空间复杂度）用于评估一个算法的优劣。这两个维度的评价标准也告诉我们人类是贪心的既要快又要省（时间快、占用硬件资源少）"
   ]
  },
  {
   "cell_type": "markdown",
   "metadata": {},
   "source": [
    "那么给了两个解决同一问题的算法怎么评价呢？\n",
    "\n",
    "* 将两个算法在同一台计算机上跑一下记录时间和物理资源暂用不就好了？\n",
    "  \n",
    "**局限性**：\n",
    "* 耗费资源\n",
    "* 硬件配置不一样，时间就不一样、消耗的内存也不一样。\n",
    "\n",
    "能不能有一种在纸上就能估算出来的方法呢？有！\n",
    "\n",
    "**定义**：算法复杂度分析描述了当问题规模的增加，算法执行所需的时间和空间的**增长系数**。\n",
    "\n",
    "如果想要在实践中学习如何分析时间复杂度和空间复杂度我们需要先理解迭代和递归。所以我们在这一小节仅仅引入复杂度分析的定义，`第5小结了解迭代与递归`；`第6小结分析算法的时间/空间复杂度`。\n"
   ]
  },
  {
   "cell_type": "markdown",
   "metadata": {},
   "source": [
    "**5. 重要工具：迭代与递归**"
   ]
  },
  {
   "cell_type": "markdown",
   "metadata": {},
   "source": [
    "计算机编程语言Python、Java、C等，基本都支持迭代和递归。它是是我们解决问题的重要工具，你将在各个分治、动态规划、回溯等算法中都能看到它，理解它有助于我们分析和解决问题。**算法是一种逻辑思维、程序语言是一种工具，两者是独立的，不要被语言束缚。你可以用任何一种语言实现你的逻辑思维**"
   ]
  },
  {
   "cell_type": "markdown",
   "metadata": {},
   "source": [
    "* 5.1 **迭代**指一种程序控制结构，程序在满足给定的条件下重复的执行某段代码的行为，直到不满足条件为止。Python中常用的迭代控制结构有`for`、`while`循环。"
   ]
  },
  {
   "cell_type": "code",
   "execution_count": 6,
   "metadata": {},
   "outputs": [
    {
     "name": "stdout",
     "output_type": "stream",
     "text": [
      "[1, 4, 9, 16]\n"
     ]
    }
   ],
   "source": [
    "# for循环\n",
    "arr = [1,2,3,4]\n",
    "for i in range(len(arr)):\n",
    "    arr[i] = arr[i]**2\n",
    "print(arr)"
   ]
  },
  {
   "cell_type": "code",
   "execution_count": 9,
   "metadata": {},
   "outputs": [
    {
     "name": "stdout",
     "output_type": "stream",
     "text": [
      "[1, 4, 25]\n"
     ]
    }
   ],
   "source": [
    "# while循环\n",
    "res = []\n",
    "i = 0\n",
    "while i<10:\n",
    "    i = i+1\n",
    "    i = i**2\n",
    "    res.append(i)\n",
    "print(res)"
   ]
  },
  {
   "cell_type": "markdown",
   "metadata": {},
   "source": [
    "从结构上看 `while` 的自由度更高，可以灵活的设计进入和跳出循环的条件，使用的时候要灵活的选择。"
   ]
  },
  {
   "cell_type": "markdown",
   "metadata": {},
   "source": [
    "* 5.2 递归"
   ]
  },
  {
   "cell_type": "markdown",
   "metadata": {},
   "source": [
    "sdf"
   ]
  },
  {
   "cell_type": "markdown",
   "metadata": {},
   "source": [
    "**6. 时间空间复杂度分析**"
   ]
  },
  {
   "cell_type": "markdown",
   "metadata": {},
   "source": []
  },
  {
   "cell_type": "markdown",
   "metadata": {},
   "source": [
    "## 二、数据结构"
   ]
  },
  {
   "cell_type": "markdown",
   "metadata": {},
   "source": [
    "### 1.数组"
   ]
  },
  {
   "cell_type": "markdown",
   "metadata": {},
   "source": [
    "* 移除元素 [[E-27](https://leetcode.cn/problems/remove-element/)]"
   ]
  },
  {
   "cell_type": "code",
   "execution_count": null,
   "metadata": {},
   "outputs": [],
   "source": [
    "class Solution:\n",
    "    def removeElement(self, nums: list[int], val: int) -> int:\n",
    "        slow = -1 # 慢指针\n",
    "        fast = 0 # 快指针\n",
    "        while(fast<len(nums)):\n",
    "            if nums[fast]==val: # 找到目标值val\n",
    "                fast+=1\n",
    "            else:\n",
    "                nums[slow+1] = nums[fast]\n",
    "                slow+=1\n",
    "                fast+=1\n",
    "        return slow+1\n",
    "# 数组是连续内存空间，如果删除某元素设计到元素的移动，将增大时间复杂度。\n",
    "# 慢指针之前（包括慢指针指示位置）全部是非val数，快指针用于过滤val。"
   ]
  },
  {
   "cell_type": "markdown",
   "metadata": {},
   "source": [
    "* [D-083. 全排列](https://leetcode.cn/problems/VvJkup/)"
   ]
  },
  {
   "cell_type": "code",
   "execution_count": null,
   "metadata": {},
   "outputs": [],
   "source": []
  },
  {
   "cell_type": "markdown",
   "metadata": {},
   "source": [
    "### 链表"
   ]
  },
  {
   "cell_type": "markdown",
   "metadata": {},
   "source": [
    "* 反转链表 [[E-206](https://leetcode.cn/problems/reverse-linked-list/description/?envType=problem-list-v2&envId=linked-list)]"
   ]
  },
  {
   "cell_type": "code",
   "execution_count": null,
   "metadata": {},
   "outputs": [],
   "source": [
    "# Definition for singly-linked list.\n",
    "class ListNode:\n",
    "    def __init__(self, val=0, next=None):\n",
    "        self.val = val\n",
    "        self.next = next\n",
    "class Solution:\n",
    "    def reverseList(self, head:ListNode) -> ListNode:\n",
    "        if head == None or head.next == None:\n",
    "            return head\n",
    "        prior = head\n",
    "        rear = head.next\n",
    "        head.next=None\n",
    "        while rear is not None:\n",
    "            temp = rear.next\n",
    "            rear.next = prior\n",
    "            prior = rear\n",
    "            rear = temp\n",
    "        return prior\n",
    "    \n",
    "    def reverseList(self, head:ListNode) -> ListNode:\n",
    "        prior = None\n",
    "        rear = head\n",
    "        while rear is not None:\n",
    "            temp = rear.next\n",
    "            rear.next = prior\n",
    "            prior = rear\n",
    "            rear = temp\n",
    "        return prior"
   ]
  },
  {
   "cell_type": "markdown",
   "metadata": {},
   "source": [
    " 两两交换链表中的节点"
   ]
  },
  {
   "cell_type": "markdown",
   "metadata": {},
   "source": [
    "### 二叉树"
   ]
  },
  {
   "cell_type": "markdown",
   "metadata": {},
   "source": [
    "## 三、算法"
   ]
  },
  {
   "cell_type": "markdown",
   "metadata": {},
   "source": [
    "### 1. 回溯"
   ]
  },
  {
   "cell_type": "code",
   "execution_count": 2,
   "metadata": {},
   "outputs": [
    {
     "name": "stdout",
     "output_type": "stream",
     "text": [
      "['node:1', 'node:2', 'node:4', 'node:5', 'node:3', 'node:6', 'node:7']\n",
      "['node:4', 'node:5']\n"
     ]
    }
   ],
   "source": [
    "# 定义二叉树\n",
    "class Node:\n",
    "    def __init__(self,v, ln=None, rn=None):\n",
    "        self.left_node = ln\n",
    "        self.right_node = rn\n",
    "        self.val = v\n",
    "\n",
    "    def __str__(self):\n",
    "        return f\"node:{self.val}\"\n",
    "\n",
    "node1 = Node(1)\n",
    "node2 = Node(2)\n",
    "node3 = Node(3)\n",
    "node4 = Node(4)\n",
    "node5 = Node(5)\n",
    "node6 = Node(6)\n",
    "node7 = Node(7)\n",
    "node1.left_node = node2\n",
    "node1.right_node = node3\n",
    "node2.left_node = node4\n",
    "node2.right_node = node5\n",
    "node3.left_node = node6\n",
    "node3.right_node = node7\n",
    "\n",
    "# 二叉树先序遍历\n",
    "def pre_traverse(root, path):\n",
    "    if root == None:\n",
    "        return \n",
    "    path.append(str(root))\n",
    "    pre_traverse(root.left_node, path)\n",
    "    pre_traverse(root.right_node, path)\n",
    "    return path\n",
    "print(pre_traverse(node1,[]))\n",
    "\n",
    "# 返回给定值的node\n",
    "def pre_traverse(root, target, res):\n",
    "    if root == None:\n",
    "        return \n",
    "    if root.val in target:\n",
    "        res.append(str(root))\n",
    "    pre_traverse(root.left_node,target, res)\n",
    "    pre_traverse(root.right_node,target, res)\n",
    "    return res\n",
    "\n",
    "print(pre_traverse(node1,[4,5],res=[]))"
   ]
  },
  {
   "cell_type": "code",
   "execution_count": 3,
   "metadata": {},
   "outputs": [
    {
     "name": "stdout",
     "output_type": "stream",
     "text": [
      "[['node:1', 'node:2', 'node:4'], ['node:1', 'node:2', 'node:5']]\n"
     ]
    }
   ],
   "source": [
    "# 返回根节点到目标值的路径\n",
    "def pre_traverse(root, target, path, res):\n",
    "    if root == None:\n",
    "        return \n",
    "    path.append(str(root))\n",
    "    if root.val in target:\n",
    "        res.append(path[:])\n",
    "    pre_traverse(root.left_node,target, path, res)\n",
    "    pre_traverse(root.right_node,target, path, res)\n",
    "    path.pop()\n",
    "    return res\n",
    "    \n",
    "print(pre_traverse(root=node1,target=[4,5], path=[], res=[]))"
   ]
  },
  {
   "cell_type": "markdown",
   "metadata": {},
   "source": [
    "### 2. 分治"
   ]
  },
  {
   "cell_type": "markdown",
   "metadata": {},
   "source": [
    "基于分治实现的二分查找"
   ]
  },
  {
   "cell_type": "code",
   "execution_count": null,
   "metadata": {},
   "outputs": [
    {
     "name": "stdout",
     "output_type": "stream",
     "text": [
      "2\n"
     ]
    }
   ],
   "source": [
    "def binary_search(nums, target, i, j):\n",
    "    if i>j:\n",
    "        return -1\n",
    "    mid = (i+j)//2\n",
    "    if nums[mid]==target:\n",
    "        return mid\n",
    "    elif target>nums[mid]:\n",
    "        return binary_search(nums, target, mid+1, j)\n",
    "    else:\n",
    "        return binary_search(nums, target, i, mid-1)\n",
    "nums = [1,2,3,4,5,6,7,8]\n",
    "print(binary_search(nums, 3, 0, 7))"
   ]
  },
  {
   "cell_type": "markdown",
   "metadata": {},
   "source": [
    "### 3. 贪心"
   ]
  },
  {
   "cell_type": "markdown",
   "metadata": {},
   "source": [
    "[零钱兑换](https://leetcode.cn/problems/coin-change/description/)：给你一个整数数组 `coins` ，表示不同面额的硬币；以及一个整数 `amount` ，表示总金额。计算并返回可以凑成总金额所需的最少的硬币个数。如果没有任何一种硬币组合能组成总金额，返回 -1 。你可以认为每种硬币的数量是无限的。"
   ]
  },
  {
   "cell_type": "code",
   "execution_count": 3,
   "metadata": {},
   "outputs": [
    {
     "name": "stdout",
     "output_type": "stream",
     "text": [
      "2\n"
     ]
    }
   ],
   "source": [
    "def coin_change_greedy(coins: list[int], amt: int) -> int:\n",
    "    \"\"\"零钱兑换：贪心\"\"\"\n",
    "    # 假设 coins 列表有序\n",
    "    i = len(coins) - 1\n",
    "    count = 0\n",
    "    # 循环进行贪心选择，直到无剩余金额\n",
    "    while amt > 0:\n",
    "        # 找到小于且最接近剩余金额的硬币\n",
    "        while i > 0 and coins[i] > amt:\n",
    "            i -= 1\n",
    "        # 选择 coins[i]\n",
    "        amt -= coins[i]\n",
    "        count += 1\n",
    "    # 若未找到可行方案，则返回 -1\n",
    "    return count if amt == 0 else -1\n",
    "coins = [1,2,3,4]\n",
    "amount = 8\n",
    "print(coin_change_greedy(coins, amount))"
   ]
  },
  {
   "cell_type": "markdown",
   "metadata": {},
   "source": [
    "### 4. 动态规划"
   ]
  },
  {
   "cell_type": "markdown",
   "metadata": {},
   "source": [
    "[爬楼梯](https://leetcode.cn/problems/climbing-stairs/description/)：假设你正在爬楼梯。需要 n 阶你才能到达楼顶。每次你可以爬 1 或 2 个台阶。你有多少种不同的方法可以爬到楼顶呢？"
   ]
  },
  {
   "cell_type": "code",
   "execution_count": 5,
   "metadata": {},
   "outputs": [
    {
     "name": "stdout",
     "output_type": "stream",
     "text": [
      "5\n"
     ]
    }
   ],
   "source": [
    "def climbStairs(n):\n",
    "    if n==1 or n==2:\n",
    "        return n\n",
    "    return climbStairs(n-1)+climbStairs(n-2)\n",
    "\n",
    "n = 4\n",
    "print(climbStairs(n))"
   ]
  },
  {
   "cell_type": "markdown",
   "metadata": {},
   "source": [
    "## 四、应用"
   ]
  },
  {
   "cell_type": "markdown",
   "metadata": {},
   "source": [
    "### 1. 排序"
   ]
  },
  {
   "cell_type": "markdown",
   "metadata": {},
   "source": [
    "#### 快速排序"
   ]
  },
  {
   "cell_type": "code",
   "execution_count": 1,
   "metadata": {},
   "outputs": [
    {
     "name": "stdout",
     "output_type": "stream",
     "text": [
      "[48, 41, 52, 49, 40, 20, 71, 48, 78, 79]\n",
      "[20, 40, 41, 48, 48, 49, 52, 71, 78, 79]\n"
     ]
    }
   ],
   "source": [
    "# 递归版本\n",
    "def quick_sort(arr):\n",
    "    if len(arr)<=1:\n",
    "        return arr # 递归出口\n",
    "    else:\n",
    "        m = arr[len(arr)//2] # 选择中间元素\n",
    "        left = [i for i in arr if i< m] # 小于基准\n",
    "        middle = [i for i in arr if i == m] # 等于基准\n",
    "        right = [i for i in arr if i > m] # 大于基准\n",
    "        return quick_sort(left)+middle+quick_sort(right) # 递归调用\n",
    "\n",
    "import random\n",
    "arr = [random.randint(1,100) for _ in range(10)]\n",
    "print(arr)\n",
    "print(quick_sort(arr))"
   ]
  },
  {
   "cell_type": "code",
   "execution_count": null,
   "metadata": {},
   "outputs": [],
   "source": [
    "# 递归（inplace）版本\n",
    "def quicksort_inplace(arr, low, high):\n",
    "    if low<high:\n",
    "        index = splition(arr, low, high)\n",
    "        quicksort_inplace(arr, low, index-1)\n",
    "        quicksort_inplace(arr, index+1, high)\n",
    "\n",
    "def splition(arr, low, high):\n",
    "    # 根据基准划分list\n",
    "    m = arr[high] # 末尾作为基准\n",
    "    i = low-1 # i以及i的左边都是小于m的\n",
    "    for j in range(low, high):\n",
    "        if arr[j]<m:\n",
    "            i+=1\n",
    "            arr[i], arr[j] = arr[j], arr[i] \n",
    "    arr[i+1], arr[high] = arr[high], arr[i+1] # 将基准摆在正确位置\n",
    "    return i+1\n",
    "\n",
    "# 示例使用\n",
    "arr = [3, 6, 8, 10, 1, 1, 2]\n",
    "quicksort_inplace(arr, 0, len(arr) - 1)\n",
    "print(arr)"
   ]
  },
  {
   "cell_type": "markdown",
   "metadata": {},
   "source": [
    "### 搜索"
   ]
  },
  {
   "cell_type": "markdown",
   "metadata": {},
   "source": [
    "### 1. 二分查找"
   ]
  }
 ],
 "metadata": {
  "kernelspec": {
   "display_name": "l2cvg",
   "language": "python",
   "name": "python3"
  },
  "language_info": {
   "codemirror_mode": {
    "name": "ipython",
    "version": 3
   },
   "file_extension": ".py",
   "mimetype": "text/x-python",
   "name": "python",
   "nbconvert_exporter": "python",
   "pygments_lexer": "ipython3",
   "version": "3.9.19"
  }
 },
 "nbformat": 4,
 "nbformat_minor": 2
}
