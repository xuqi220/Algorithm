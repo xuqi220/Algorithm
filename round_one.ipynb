{
 "cells": [
  {
   "cell_type": "markdown",
   "metadata": {},
   "source": [
    "# 第一轮刷题"
   ]
  },
  {
   "cell_type": "markdown",
   "metadata": {},
   "source": [
    "了解有哪些数据结构和算法"
   ]
  },
  {
   "cell_type": "markdown",
   "metadata": {},
   "source": [
    "## 一、数据结构"
   ]
  },
  {
   "cell_type": "markdown",
   "metadata": {},
   "source": [
    "### 数组"
   ]
  },
  {
   "cell_type": "markdown",
   "metadata": {},
   "source": [
    "* 移除元素 [[E](https://leetcode.cn/problems/remove-element/)]"
   ]
  },
  {
   "cell_type": "code",
   "execution_count": 5,
   "metadata": {},
   "outputs": [],
   "source": [
    "class Solution:\n",
    "    def removeElement(self, nums: list[int], val: int) -> int:\n",
    "        slow = -1 # 慢指针\n",
    "        fast = 0 # 快指针\n",
    "        while(fast<len(nums)):\n",
    "            if nums[fast]==val: # 找到目标值val\n",
    "                fast+=1\n",
    "            else:\n",
    "                nums[slow+1] = nums[fast]\n",
    "                slow+=1\n",
    "                fast+=1\n",
    "        return slow+1"
   ]
  },
  {
   "cell_type": "markdown",
   "metadata": {},
   "source": [
    "数组是连续内存空间，如果删除某元素设计到元素的移动，将增大时间复杂度。慢指针之前（包括慢指针指示位置）全部是非val数，快指针用于过滤val。"
   ]
  },
  {
   "cell_type": "markdown",
   "metadata": {},
   "source": [
    "### 链表"
   ]
  },
  {
   "cell_type": "markdown",
   "metadata": {},
   "source": [
    "## 二、算法"
   ]
  },
  {
   "cell_type": "markdown",
   "metadata": {},
   "source": []
  },
  {
   "cell_type": "markdown",
   "metadata": {},
   "source": [
    "### 排序"
   ]
  },
  {
   "cell_type": "markdown",
   "metadata": {},
   "source": [
    "#### 快速排序"
   ]
  },
  {
   "cell_type": "code",
   "execution_count": 3,
   "metadata": {},
   "outputs": [
    {
     "name": "stdout",
     "output_type": "stream",
     "text": [
      "[61, 61, 12, 38, 43, 39, 48, 60, 84, 68]\n",
      "[12, 38, 39, 43, 48, 60, 61, 61, 68, 84]\n"
     ]
    }
   ],
   "source": [
    "# 递归版本\n",
    "def quick_sort(arr):\n",
    "    if len(arr)<=1:\n",
    "        return arr # 递归出口\n",
    "    else:\n",
    "        m = arr[len(arr)//2] # 选择中间元素\n",
    "        left = [i for i in arr if i< m] # 小于基准\n",
    "        middle = [i for i in arr if i == m] # 等于基准\n",
    "        right = [i for i in arr if i > m] # 大于基准\n",
    "        return quick_sort(left)+middle+quick_sort(right) # 递归调用\n",
    "\n",
    "import random\n",
    "arr = [random.randint(1,100) for _ in range(10)]\n",
    "print(arr)\n",
    "print(quick_sort(arr))"
   ]
  },
  {
   "cell_type": "code",
   "execution_count": 4,
   "metadata": {},
   "outputs": [
    {
     "name": "stdout",
     "output_type": "stream",
     "text": [
      "[1, 1, 2, 3, 6, 8, 10]\n"
     ]
    }
   ],
   "source": [
    "# 递归（inplace）版本\n",
    "def quicksort_inplace(arr, low, high):\n",
    "    if low<high:\n",
    "        index = splition(arr, low, high)\n",
    "        quicksort_inplace(arr, low, index-1)\n",
    "        quicksort_inplace(arr, index+1, high)\n",
    "\n",
    "def splition(arr, low, high):\n",
    "    # 根据基准划分list\n",
    "    m = arr[high] # 末尾作为基准\n",
    "    i = low-1 # i以及i的左边都是小于m的\n",
    "    for j in range(low, high):\n",
    "        if arr[j]<m:\n",
    "            i+=1\n",
    "            arr[i], arr[j] = arr[j], arr[i] \n",
    "    arr[i+1], arr[high] = arr[high], arr[i+1] # 将基准摆在正确位置\n",
    "    return i+1\n",
    "\n",
    "# 示例使用\n",
    "arr = [3, 6, 8, 10, 1, 1, 2]\n",
    "quicksort_inplace(arr, 0, len(arr) - 1)\n",
    "print(arr)"
   ]
  }
 ],
 "metadata": {
  "kernelspec": {
   "display_name": "llmlearn",
   "language": "python",
   "name": "python3"
  },
  "language_info": {
   "codemirror_mode": {
    "name": "ipython",
    "version": 3
   },
   "file_extension": ".py",
   "mimetype": "text/x-python",
   "name": "python",
   "nbconvert_exporter": "python",
   "pygments_lexer": "ipython3",
   "version": "3.9.19"
  }
 },
 "nbformat": 4,
 "nbformat_minor": 2
}
