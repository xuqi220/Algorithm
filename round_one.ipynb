{
 "cells": [
  {
   "cell_type": "markdown",
   "metadata": {},
   "source": [
    "# 第一轮刷题"
   ]
  },
  {
   "cell_type": "markdown",
   "metadata": {},
   "source": [
    "了解有哪些数据结构和算法，多做简单题，熟练掌握概率和基本的技巧"
   ]
  },
  {
   "cell_type": "markdown",
   "metadata": {},
   "source": [
    "## 二、数据结构"
   ]
  },
  {
   "cell_type": "markdown",
   "metadata": {},
   "source": [
    "### 数组"
   ]
  },
  {
   "cell_type": "markdown",
   "metadata": {},
   "source": [
    "* 移除元素 [[E-27](https://leetcode.cn/problems/remove-element/)]"
   ]
  },
  {
   "cell_type": "code",
   "execution_count": 5,
   "metadata": {},
   "outputs": [],
   "source": [
    "class Solution:\n",
    "    def removeElement(self, nums: list[int], val: int) -> int:\n",
    "        slow = -1 # 慢指针\n",
    "        fast = 0 # 快指针\n",
    "        while(fast<len(nums)):\n",
    "            if nums[fast]==val: # 找到目标值val\n",
    "                fast+=1\n",
    "            else:\n",
    "                nums[slow+1] = nums[fast]\n",
    "                slow+=1\n",
    "                fast+=1\n",
    "        return slow+1\n",
    "# 数组是连续内存空间，如果删除某元素设计到元素的移动，将增大时间复杂度。\n",
    "# 慢指针之前（包括慢指针指示位置）全部是非val数，快指针用于过滤val。"
   ]
  },
  {
   "cell_type": "markdown",
   "metadata": {},
   "source": [
    "* [D-083. 全排列](https://leetcode.cn/problems/VvJkup/)"
   ]
  },
  {
   "cell_type": "code",
   "execution_count": null,
   "metadata": {},
   "outputs": [],
   "source": []
  },
  {
   "cell_type": "markdown",
   "metadata": {},
   "source": [
    "### 链表"
   ]
  },
  {
   "cell_type": "markdown",
   "metadata": {},
   "source": [
    "* 反转链表 [[E-206](https://leetcode.cn/problems/reverse-linked-list/description/?envType=problem-list-v2&envId=linked-list)]"
   ]
  },
  {
   "cell_type": "code",
   "execution_count": null,
   "metadata": {},
   "outputs": [],
   "source": [
    "# Definition for singly-linked list.\n",
    "class ListNode:\n",
    "    def __init__(self, val=0, next=None):\n",
    "        self.val = val\n",
    "        self.next = next\n",
    "class Solution:\n",
    "    def reverseList(self, head:ListNode) -> ListNode:\n",
    "        if head == None or head.next == None:\n",
    "            return head\n",
    "        prior = head\n",
    "        rear = head.next\n",
    "        head.next=None\n",
    "        while rear is not None:\n",
    "            temp = rear.next\n",
    "            rear.next = prior\n",
    "            prior = rear\n",
    "            rear = temp\n",
    "        return prior\n",
    "    \n",
    "    def reverseList(self, head:ListNode) -> ListNode:\n",
    "        prior = None\n",
    "        rear = head\n",
    "        while rear is not None:\n",
    "            temp = rear.next\n",
    "            rear.next = prior\n",
    "            prior = rear\n",
    "            rear = temp\n",
    "        return prior"
   ]
  },
  {
   "cell_type": "markdown",
   "metadata": {},
   "source": [
    " 两两交换链表中的节点"
   ]
  },
  {
   "cell_type": "markdown",
   "metadata": {},
   "source": [
    "### 二叉树"
   ]
  },
  {
   "cell_type": "markdown",
   "metadata": {},
   "source": [
    "## 二、算法"
   ]
  },
  {
   "cell_type": "markdown",
   "metadata": {},
   "source": [
    "### 搜索"
   ]
  },
  {
   "cell_type": "markdown",
   "metadata": {},
   "source": [
    "### 排序"
   ]
  },
  {
   "cell_type": "markdown",
   "metadata": {},
   "source": [
    "#### 快速排序"
   ]
  },
  {
   "cell_type": "code",
   "execution_count": null,
   "metadata": {},
   "outputs": [],
   "source": [
    "# 递归版本\n",
    "def quick_sort(arr):\n",
    "    if len(arr)<=1:\n",
    "        return arr # 递归出口\n",
    "    else:\n",
    "        m = arr[len(arr)//2] # 选择中间元素\n",
    "        left = [i for i in arr if i< m] # 小于基准\n",
    "        middle = [i for i in arr if i == m] # 等于基准\n",
    "        right = [i for i in arr if i > m] # 大于基准\n",
    "        return quick_sort(left)+middle+quick_sort(right) # 递归调用\n",
    "\n",
    "import random\n",
    "arr = [random.randint(1,100) for _ in range(10)]\n",
    "print(arr)\n",
    "print(quick_sort(arr))"
   ]
  },
  {
   "cell_type": "code",
   "execution_count": null,
   "metadata": {},
   "outputs": [],
   "source": [
    "# 递归（inplace）版本\n",
    "def quicksort_inplace(arr, low, high):\n",
    "    if low<high:\n",
    "        index = splition(arr, low, high)\n",
    "        quicksort_inplace(arr, low, index-1)\n",
    "        quicksort_inplace(arr, index+1, high)\n",
    "\n",
    "def splition(arr, low, high):\n",
    "    # 根据基准划分list\n",
    "    m = arr[high] # 末尾作为基准\n",
    "    i = low-1 # i以及i的左边都是小于m的\n",
    "    for j in range(low, high):\n",
    "        if arr[j]<m:\n",
    "            i+=1\n",
    "            arr[i], arr[j] = arr[j], arr[i] \n",
    "    arr[i+1], arr[high] = arr[high], arr[i+1] # 将基准摆在正确位置\n",
    "    return i+1\n",
    "\n",
    "# 示例使用\n",
    "arr = [3, 6, 8, 10, 1, 1, 2]\n",
    "quicksort_inplace(arr, 0, len(arr) - 1)\n",
    "print(arr)"
   ]
  },
  {
   "cell_type": "markdown",
   "metadata": {},
   "source": [
    "### 回溯"
   ]
  },
  {
   "cell_type": "code",
   "execution_count": 2,
   "metadata": {},
   "outputs": [],
   "source": [
    "# 定义二叉树\n",
    "class Node:\n",
    "    def __init__(self,v, ln=None, rn=None):\n",
    "        self.left_node = ln\n",
    "        self.right_node = rn\n",
    "        self.val = v\n",
    "\n",
    "    def __str__(self):\n",
    "        return f\"node:{self.val}\"\n",
    "\n",
    "node1 = Node(1)\n",
    "node2 = Node(2)\n",
    "node3 = Node(3)\n",
    "node4 = Node(4)\n",
    "node5 = Node(5)\n",
    "node6 = Node(6)\n",
    "node7 = Node(7)\n",
    "node1.left_node = node2\n",
    "node1.right_node = node3\n",
    "node2.left_node = node4\n",
    "node2.right_node = node5\n",
    "node3.left_node = node6\n",
    "node3.right_node = node7"
   ]
  },
  {
   "cell_type": "code",
   "execution_count": 3,
   "metadata": {},
   "outputs": [
    {
     "name": "stdout",
     "output_type": "stream",
     "text": [
      "['node:1', 'node:2', 'node:4', 'node:5', 'node:3', 'node:6', 'node:7']\n"
     ]
    }
   ],
   "source": [
    "# 二叉树先序遍历\n",
    "def pre_traverse(root, path):\n",
    "    if root == None:\n",
    "        return \n",
    "    path.append(str(root))\n",
    "    pre_traverse(root.left_node, path)\n",
    "    pre_traverse(root.right_node, path)\n",
    "    return path\n",
    "print(pre_traverse(node1,[]))"
   ]
  },
  {
   "cell_type": "code",
   "execution_count": 18,
   "metadata": {},
   "outputs": [
    {
     "name": "stdout",
     "output_type": "stream",
     "text": [
      "['node:4', 'node:5']\n"
     ]
    }
   ],
   "source": [
    "# 返回给定值的node\n",
    "def pre_traverse(root, target, res):\n",
    "    if root == None:\n",
    "        return \n",
    "    if root.val in target:\n",
    "        res.append(str(root))\n",
    "    pre_traverse(root.left_node,target, res)\n",
    "    pre_traverse(root.right_node,target, res)\n",
    "    return res\n",
    "\n",
    "print(pre_traverse(node1,[4,5],res=[]))"
   ]
  },
  {
   "cell_type": "code",
   "execution_count": 28,
   "metadata": {},
   "outputs": [
    {
     "name": "stdout",
     "output_type": "stream",
     "text": [
      "[['node:1', 'node:2', 'node:4'], ['node:1', 'node:2', 'node:5']]\n"
     ]
    }
   ],
   "source": [
    "# 返回根节点到目标值的路径\n",
    "def pre_traverse(root, target, path, res):\n",
    "    if root == None:\n",
    "        return \n",
    "    path.append(str(root))\n",
    "    if root.val in target:\n",
    "        res.append(path[:])\n",
    "    pre_traverse(root.left_node,target, path, res)\n",
    "    pre_traverse(root.right_node,target, path, res)\n",
    "    path.pop()\n",
    "    return res\n",
    "    \n",
    "print(pre_traverse(root=node1,target=[4,5], path=[], res=[]))"
   ]
  },
  {
   "cell_type": "code",
   "execution_count": null,
   "metadata": {},
   "outputs": [],
   "source": [
    "\n",
    "    \n",
    "\n"
   ]
  }
 ],
 "metadata": {
  "kernelspec": {
   "display_name": "llmlearn",
   "language": "python",
   "name": "python3"
  },
  "language_info": {
   "codemirror_mode": {
    "name": "ipython",
    "version": 3
   },
   "file_extension": ".py",
   "mimetype": "text/x-python",
   "name": "python",
   "nbconvert_exporter": "python",
   "pygments_lexer": "ipython3",
   "version": "3.9.19"
  }
 },
 "nbformat": 4,
 "nbformat_minor": 2
}
