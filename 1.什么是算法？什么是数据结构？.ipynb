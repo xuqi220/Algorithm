{
 "cells": [
  {
   "cell_type": "markdown",
   "metadata": {},
   "source": [
    "目标：什么是数据结构、什么是算法? 两者什么关系？"
   ]
  },
  {
   "cell_type": "markdown",
   "metadata": {},
   "source": [
    "## 1. 算法是什么？"
   ]
  },
  {
   "cell_type": "markdown",
   "metadata": {},
   "source": [
    "算法就是一系列操作步骤的集合，它能够在有限的资源（时间、指令、内存）下，解决被明确定义的问题。\n",
    "* 问题被明确定义：输入是什么？输出是什么？\n",
    "* 操作步骤是确定的、明确的、有限的\n",
    "* 算法的结果是确定的"
   ]
  },
  {
   "cell_type": "markdown",
   "metadata": {},
   "source": [
    "## 2. 数据结构是什么？"
   ]
  },
  {
   "cell_type": "markdown",
   "metadata": {},
   "source": [
    "数据结构定义了数据的组织方式，这种组织方式有多种实现方式。这种组织方式涵盖了数据内容、数据关系、数据行为。例如对于逻辑上的顺序结构，物理上有利用连续存储空间的数组、非连续空间的链表。其中前者用物理上的内存地址的先后顺序表示数据的先后顺序，后者采用指针表示元素的先后顺序，数据行为都包括了增删查改。"
   ]
  },
  {
   "cell_type": "markdown",
   "metadata": {},
   "source": [
    "每种数据结构都有自己的利弊，比如链表易于删除、插入，但是由于物理空间非连续其访问速度较差。每种数据结构能够经过实践的淘汰被保存下来都有它自己的用武之地，你也可以针对自己的需求设计一种自己的数据结构。"
   ]
  },
  {
   "cell_type": "markdown",
   "metadata": {},
   "source": [
    "## 3. 数据结构+算法"
   ]
  },
  {
   "cell_type": "markdown",
   "metadata": {},
   "source": [
    "两者互相依存缺一不可：数据结构是算法的基石，算法为数据结构注入灵魂；如果说数据结构是对现实世界的静态描述，那么算法就是让这个现实世界活跃起来的灵魂。好比一个厨子手拿锅、铲、调料、食材等数据，那菜谱就是他的算法。只有两者皆上等，才能做出美味的菜肴。"
   ]
  },
  {
   "cell_type": "markdown",
   "metadata": {},
   "source": [
    "## 4. 复杂度分析的定义"
   ]
  },
  {
   "cell_type": "markdown",
   "metadata": {},
   "source": [
    "厨子做出菜了，怎么评价其好坏？算法复杂度分析（时间复杂度、空间复杂度）用于评估一个算法的优劣。这两个维度的评价标准也告诉我们人类是贪心的既要快又要省（时间快、占用硬件资源少）"
   ]
  },
  {
   "cell_type": "markdown",
   "metadata": {},
   "source": [
    "那么给了两个解决同一问题的算法怎么评价呢？\n",
    "\n",
    "* 将两个算法在同一台计算机上跑一下记录时间和物理资源暂用不就好了？\n",
    "  \n",
    "**局限性**：\n",
    "* 耗费资源\n",
    "* 硬件配置不一样，时间就不一样、消耗的内存也不一样。\n",
    "\n",
    "能不能有一种在纸上就能估算出来的方法呢？有！\n",
    "\n",
    "**定义**：算法复杂度分析描述了当问题规模的增加，算法执行所需的时间和空间的**增长系数**。\n",
    "\n",
    "如果想要在实践中学习如何分析时间复杂度和空间复杂度我们需要先理解迭代和递归。所以我们在这一小节仅仅引入复杂度分析的定义，`第5小结了解迭代与递归`；`第6小结分析算法的时间/空间复杂度`。\n"
   ]
  },
  {
   "cell_type": "markdown",
   "metadata": {},
   "source": [
    "## 5. 重要工具：迭代与递归"
   ]
  },
  {
   "cell_type": "markdown",
   "metadata": {},
   "source": [
    "计算机编程语言Python、Java、C等，基本都支持迭代和递归。它是是我们解决问题的重要工具，你将在各个分治、动态规划、回溯等算法中都能看到它，理解它有助于我们分析和解决问题。**算法是一种逻辑思维、程序语言是一种工具，两者是独立的，不要被语言束缚。你可以用任何一种语言实现你的逻辑思维**"
   ]
  },
  {
   "cell_type": "markdown",
   "metadata": {},
   "source": [
    "### 5.1 迭代"
   ]
  },
  {
   "cell_type": "markdown",
   "metadata": {},
   "source": [
    "迭代指一种程序控制结构，程序在满足给定的条件下重复的执行某段代码的行为，直到不满足条件为止。Python中常用的迭代控制结构有`for`、`while`循环。"
   ]
  },
  {
   "cell_type": "code",
   "execution_count": 6,
   "metadata": {},
   "outputs": [
    {
     "name": "stdout",
     "output_type": "stream",
     "text": [
      "[1, 4, 9, 16]\n"
     ]
    }
   ],
   "source": [
    "# for循环\n",
    "arr = [1,2,3,4]\n",
    "for i in range(len(arr)):\n",
    "    arr[i] = arr[i]**2\n",
    "print(arr)"
   ]
  },
  {
   "cell_type": "code",
   "execution_count": 9,
   "metadata": {},
   "outputs": [
    {
     "name": "stdout",
     "output_type": "stream",
     "text": [
      "[1, 4, 25]\n"
     ]
    }
   ],
   "source": [
    "# while循环\n",
    "res = []\n",
    "i = 0\n",
    "while i<10:\n",
    "    i = i+1\n",
    "    i = i**2\n",
    "    res.append(i)\n",
    "print(res)"
   ]
  },
  {
   "cell_type": "markdown",
   "metadata": {},
   "source": [
    "从结构上看 `while` 的自由度更高，可以灵活的设计进入和跳出循环的条件，使用的时候要灵活的选择。"
   ]
  },
  {
   "cell_type": "markdown",
   "metadata": {},
   "source": [
    "### 5.2 递归"
   ]
  },
  {
   "cell_type": "markdown",
   "metadata": {},
   "source": [
    "指程序调用自身，包括了 递 和 归 两个过程"
   ]
  },
  {
   "cell_type": "markdown",
   "metadata": {},
   "source": [
    "* **递**：程序不断调用自身的过程\n",
    "* **归**：到达递过程的最深处，开始逐级返回的过程\n",
    "\n",
    "写递归程序的重点：\n",
    "\n",
    "* **递归调用**：调用自身的代码\n",
    "* **终止条件**：程序的出口，这是递转归的重要条件，如果程序一直找不到出口，那么程序会一直调用下去，直到达到调用栈的最大深度。\n",
    "* **返回结果**：在归的过程中将结果逐级返回"
   ]
  },
  {
   "cell_type": "markdown",
   "metadata": {},
   "source": [
    "注意递归调用是非常耗费资源的，每次调用都要保存调用函数的当前状态，以保证在调用结束后程序能够恢复当前状态继续执行（其实也是保证了归这个过程顺利执行），很多系统设置了最大的调用栈的深度。"
   ]
  },
  {
   "cell_type": "markdown",
   "metadata": {},
   "source": [
    "典型的递归调用的例子是 `fibonacci数列` 第 `n` 项是第 `n-1` 和 `n-2` 项的和 即：$fib(n)=fib(n-1)+fib(n-2)$, 其中 $fib(1)=fib(2)=1$ 求当给定任意数字 n 时 $fib(n)$ 的值。"
   ]
  },
  {
   "cell_type": "code",
   "execution_count": 3,
   "metadata": {},
   "outputs": [
    {
     "name": "stdout",
     "output_type": "stream",
     "text": [
      "55\n"
     ]
    }
   ],
   "source": [
    "# 求fibonacci数列第n项的值\n",
    "def fib_recur(n):\n",
    "    # 程序出口\n",
    "    if n==1 or n==2:\n",
    "        return 1\n",
    "    # 递归调用\n",
    "    res = fib_recur(n-1)+fib_recur(n-2)\n",
    "    # 返回结果\n",
    "    return res\n",
    "print(fib_recur(10))"
   ]
  },
  {
   "cell_type": "markdown",
   "metadata": {},
   "source": [
    "递归调用栈分析："
   ]
  },
  {
   "cell_type": "markdown",
   "metadata": {},
   "source": [
    "<img src=\"./fib.png\">"
   ]
  },
  {
   "cell_type": "markdown",
   "metadata": {},
   "source": [
    "我们发现递归的调用过程中存在着很多的重复计算，其实递归就是一个暴力求解的过程，它的时间、空间复杂度都很低，但是很多算法是基于它优化得来的，其中一个非常常用的优化策略就是**剪枝**，例如在上述图中我们将已经重复计算的 $fib(3) 、fib(4)$ 存储起来，用到的时候直接拿出来用，不用再重复计算，这样就提高时间复杂度，虽然空间复杂度上升了但是在可接受范围内，毕竟存储器比时间要便宜。具体代码如下："
   ]
  },
  {
   "cell_type": "code",
   "execution_count": 1,
   "metadata": {},
   "outputs": [
    {
     "name": "stdout",
     "output_type": "stream",
     "text": [
      "55\n",
      "[-1, -1, -1, 2, 3, 5, 8, 13, 21, 34, 55]\n"
     ]
    }
   ],
   "source": [
    "def fib_table(n, table):\n",
    "    if n==1 or n==2:\n",
    "        return 1\n",
    "    # 剪枝策略，减少重复递归计算\n",
    "    if table[n]!=-1:\n",
    "        return table[n]\n",
    "    res = fib_table(n-1, table)+fib_table(n-2, table)\n",
    "    table[n] = res\n",
    "    return res\n",
    "n = 10\n",
    "table = [-1]*(n+1)\n",
    "print(fib_table(n, table))\n",
    "print(table)"
   ]
  },
  {
   "cell_type": "code",
   "execution_count": null,
   "metadata": {},
   "outputs": [
    {
     "name": "stdout",
     "output_type": "stream",
     "text": [
      "fib_recur | 结果：102334155 | 时间：13.1498 sec\n",
      "fib_table | 结果：102334155 | 时间：0.0006 sec\n"
     ]
    }
   ],
   "source": [
    "# 时间测试\n",
    "import time\n",
    "n = 40\n",
    "\n",
    "t1 = time.time()\n",
    "res_recur = fib_recur(n)\n",
    "t2 = time.time()\n",
    "print(f\"fib_recur | 结果：{res_recur} | 时间：{round(t2-t1,4)} sec\")\n",
    "\n",
    "table = [-1]*(n+1)\n",
    "res_tab = fib_table(n, table)\n",
    "t3 = time.time()\n",
    "print(f\"fib_table | 结果：{res_tab} | 时间：{round(t3-t2,4)} sec\")"
   ]
  },
  {
   "cell_type": "markdown",
   "metadata": {},
   "source": [
    "**深入思考**：从本质上，递归体现了分治的算法思想，“将求解问题分解为子问题，然后逐一击破，然后利用子问题的解求解问题”的思维范式，这种至关重要，很多算法就是基于递归改进的，比如上面说的剪枝的改进策略，大大减少了重复计算。\n",
    "\n",
    "* 从算法角度看，搜索、排序、回溯、分治、动态规划等许多重要算法策略直接或间接地应用了这种思维方式。\n",
    "* 从数据结构角度看，递归天然适合处理链表、树和图的相关问题，因为它们非常适合用分治思想进行分析（因为具有**重复子结构**，即子问题和要求解的问题本质上是同一结构）。\n",
    "  \n",
    "**综上：当问题具有重复子结构的时候，递归能够提供暴力解，然后根据具体问题选择优化策略！！！** 多做题总结算法框架。"
   ]
  },
  {
   "cell_type": "markdown",
   "metadata": {},
   "source": [
    "## 6. 时/空间复杂度分析"
   ]
  },
  {
   "cell_type": "markdown",
   "metadata": {},
   "source": [
    "### 6.1 时间复杂度"
   ]
  },
  {
   "cell_type": "markdown",
   "metadata": {},
   "source": [
    "时间复杂度分析统计的不是算法运行时间，而是算法运行时间随着数据量变大时的**增长趋势**"
   ]
  },
  {
   "cell_type": "markdown",
   "metadata": {},
   "source": [
    "### 6.2 空间复杂度"
   ]
  },
  {
   "cell_type": "markdown",
   "metadata": {},
   "source": [
    "空间复杂度（space complexity）用于衡量算法占用内存空间随着数据量变大时的**增长趋势**"
   ]
  },
  {
   "cell_type": "markdown",
   "metadata": {},
   "source": [
    "### 二叉树"
   ]
  },
  {
   "cell_type": "markdown",
   "metadata": {},
   "source": [
    "## 三、算法"
   ]
  },
  {
   "cell_type": "markdown",
   "metadata": {},
   "source": [
    "### 2. 分治"
   ]
  },
  {
   "cell_type": "markdown",
   "metadata": {},
   "source": [
    "基于分治实现的二分查找"
   ]
  },
  {
   "cell_type": "code",
   "execution_count": null,
   "metadata": {},
   "outputs": [
    {
     "name": "stdout",
     "output_type": "stream",
     "text": [
      "2\n"
     ]
    }
   ],
   "source": [
    "def binary_search(nums, target, i, j):\n",
    "    if i>j:\n",
    "        return -1\n",
    "    mid = (i+j)//2\n",
    "    if nums[mid]==target:\n",
    "        return mid\n",
    "    elif target>nums[mid]:\n",
    "        return binary_search(nums, target, mid+1, j)\n",
    "    else:\n",
    "        return binary_search(nums, target, i, mid-1)\n",
    "nums = [1,2,3,4,5,6,7,8]\n",
    "print(binary_search(nums, 3, 0, 7))"
   ]
  },
  {
   "cell_type": "markdown",
   "metadata": {},
   "source": [
    "### 3. 贪心"
   ]
  },
  {
   "cell_type": "markdown",
   "metadata": {},
   "source": [
    "[零钱兑换](https://leetcode.cn/problems/coin-change/description/)：给你一个整数数组 `coins` ，表示不同面额的硬币；以及一个整数 `amount` ，表示总金额。计算并返回可以凑成总金额所需的最少的硬币个数。如果没有任何一种硬币组合能组成总金额，返回 -1 。你可以认为每种硬币的数量是无限的。"
   ]
  },
  {
   "cell_type": "code",
   "execution_count": 3,
   "metadata": {},
   "outputs": [
    {
     "name": "stdout",
     "output_type": "stream",
     "text": [
      "2\n"
     ]
    }
   ],
   "source": [
    "def coin_change_greedy(coins: list[int], amt: int) -> int:\n",
    "    \"\"\"零钱兑换：贪心\"\"\"\n",
    "    # 假设 coins 列表有序\n",
    "    i = len(coins) - 1\n",
    "    count = 0\n",
    "    # 循环进行贪心选择，直到无剩余金额\n",
    "    while amt > 0:\n",
    "        # 找到小于且最接近剩余金额的硬币\n",
    "        while i > 0 and coins[i] > amt:\n",
    "            i -= 1\n",
    "        # 选择 coins[i]\n",
    "        amt -= coins[i]\n",
    "        count += 1\n",
    "    # 若未找到可行方案，则返回 -1\n",
    "    return count if amt == 0 else -1\n",
    "coins = [1,2,3,4]\n",
    "amount = 8\n",
    "print(coin_change_greedy(coins, amount))"
   ]
  },
  {
   "cell_type": "markdown",
   "metadata": {},
   "source": [
    "### 4. 动态规划"
   ]
  },
  {
   "cell_type": "markdown",
   "metadata": {},
   "source": [
    "[爬楼梯](https://leetcode.cn/problems/climbing-stairs/description/)：假设你正在爬楼梯。需要 n 阶你才能到达楼顶。每次你可以爬 1 或 2 个台阶。你有多少种不同的方法可以爬到楼顶呢？"
   ]
  },
  {
   "cell_type": "code",
   "execution_count": 5,
   "metadata": {},
   "outputs": [
    {
     "name": "stdout",
     "output_type": "stream",
     "text": [
      "5\n"
     ]
    }
   ],
   "source": [
    "def climbStairs(n):\n",
    "    if n==1 or n==2:\n",
    "        return n\n",
    "    return climbStairs(n-1)+climbStairs(n-2)\n",
    "\n",
    "n = 4\n",
    "print(climbStairs(n))"
   ]
  },
  {
   "cell_type": "markdown",
   "metadata": {},
   "source": [
    "## 四、应用"
   ]
  },
  {
   "cell_type": "markdown",
   "metadata": {},
   "source": [
    "### 1. 排序"
   ]
  },
  {
   "cell_type": "markdown",
   "metadata": {},
   "source": [
    "#### 快速排序"
   ]
  },
  {
   "cell_type": "code",
   "execution_count": 2,
   "metadata": {},
   "outputs": [
    {
     "name": "stdout",
     "output_type": "stream",
     "text": [
      "[88, 84, 67, 11, 15, 48, 51, 84, 69, 48]\n",
      "[11, 15, 48, 48, 51, 67, 69, 84, 84, 88]\n"
     ]
    }
   ],
   "source": [
    "# 递归版本\n",
    "def quick_sort(arr):\n",
    "    if len(arr)<=1:\n",
    "        return arr # 递归出口\n",
    "    m = arr[len(arr)//2] # 选择中间元素\n",
    "    left = [i for i in arr if i< m] # 小于基准\n",
    "    middle = [i for i in arr if i == m] # 等于基准\n",
    "    right = [i for i in arr if i > m] # 大于基准\n",
    "    return quick_sort(left)+middle+quick_sort(right) # 递归调用\n",
    "\n",
    "import random\n",
    "arr = [random.randint(1,100) for _ in range(10)]\n",
    "print(arr)\n",
    "print(quick_sort(arr))"
   ]
  },
  {
   "cell_type": "code",
   "execution_count": null,
   "metadata": {},
   "outputs": [],
   "source": [
    "# 递归（inplace）版本\n",
    "def quicksort_inplace(arr, low, high):\n",
    "    if low<high:\n",
    "        index = splition(arr, low, high)\n",
    "        quicksort_inplace(arr, low, index-1)\n",
    "        quicksort_inplace(arr, index+1, high)\n",
    "\n",
    "def splition(arr, low, high):\n",
    "    # 根据基准划分list\n",
    "    m = arr[high] # 末尾作为基准\n",
    "    i = low-1 # i以及i的左边都是小于m的\n",
    "    for j in range(low, high):\n",
    "        if arr[j]<m:\n",
    "            i+=1\n",
    "            arr[i], arr[j] = arr[j], arr[i] \n",
    "    arr[i+1], arr[high] = arr[high], arr[i+1] # 将基准摆在正确位置\n",
    "    return i+1\n",
    "\n",
    "# 示例使用\n",
    "arr = [3, 6, 8, 10, 1, 1, 2]\n",
    "quicksort_inplace(arr, 0, len(arr) - 1)\n",
    "print(arr)"
   ]
  }
 ],
 "metadata": {
  "kernelspec": {
   "display_name": "llmlearn",
   "language": "python",
   "name": "python3"
  },
  "language_info": {
   "codemirror_mode": {
    "name": "ipython",
    "version": 3
   },
   "file_extension": ".py",
   "mimetype": "text/x-python",
   "name": "python",
   "nbconvert_exporter": "python",
   "pygments_lexer": "ipython3",
   "version": "3.9.19"
  }
 },
 "nbformat": 4,
 "nbformat_minor": 2
}
