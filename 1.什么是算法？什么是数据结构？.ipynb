{
 "cells": [
  {
   "cell_type": "markdown",
   "metadata": {},
   "source": [
    "# 一、简介"
   ]
  },
  {
   "cell_type": "markdown",
   "metadata": {},
   "source": [
    "目标：什么是数据结构、什么是算法? 两者什么关系？"
   ]
  },
  {
   "cell_type": "markdown",
   "metadata": {},
   "source": [
    "## 1.1 算法是什么？"
   ]
  },
  {
   "cell_type": "markdown",
   "metadata": {},
   "source": [
    "算法就是一系列操作步骤的集合，它能够在有限的资源（时间、指令、内存）下，解决被明确定义的问题。\n",
    "* 问题被明确定义：输入是什么？输出是什么？\n",
    "* 操作步骤是确定的、明确的、有限的\n",
    "* 算法的结果是确定的"
   ]
  },
  {
   "cell_type": "markdown",
   "metadata": {},
   "source": [
    "## 1.2 数据结构是什么？"
   ]
  },
  {
   "cell_type": "markdown",
   "metadata": {},
   "source": [
    "数据结构定义了数据的组织方式，这种组织方式有多种实现方式。这种组织方式涵盖了数据内容、数据关系、数据行为。例如对于逻辑上的顺序结构，物理上有利用连续存储空间的数组、非连续空间的链表。其中前者用物理上的内存地址的先后顺序表示数据的先后顺序，后者采用指针表示元素的先后顺序，数据行为都包括了增删查改。"
   ]
  },
  {
   "cell_type": "markdown",
   "metadata": {},
   "source": [
    "每种数据结构都有自己的利弊，比如链表易于删除、插入，但是由于物理空间非连续其访问速度较差。每种数据结构能够经过实践的淘汰被保存下来都有它自己的用武之地，你也可以针对自己的需求设计一种自己的数据结构。"
   ]
  },
  {
   "cell_type": "markdown",
   "metadata": {},
   "source": [
    "## 1.3 数据结构+算法"
   ]
  },
  {
   "cell_type": "markdown",
   "metadata": {},
   "source": [
    "两者互相依存缺一不可：数据结构是算法的基石，算法为数据结构注入灵魂；如果说数据结构是对现实世界的静态描述，那么算法就是让这个现实世界活跃起来的灵魂。好比一个厨子手拿锅、铲、调料、食材等数据，那菜谱就是他的算法。只有两者皆上等，才能做出美味的菜肴。"
   ]
  },
  {
   "cell_type": "markdown",
   "metadata": {},
   "source": [
    "## 1.4 复杂度分析的定义"
   ]
  },
  {
   "cell_type": "markdown",
   "metadata": {},
   "source": [
    "厨子做出菜了，怎么评价其好坏？算法复杂度分析（时间复杂度、空间复杂度）用于评估一个算法的优劣。这两个维度的评价标准也告诉我们人类是贪心的既要快又要省（时间快、占用硬件资源少）"
   ]
  },
  {
   "cell_type": "markdown",
   "metadata": {},
   "source": [
    "那么给了两个解决同一问题的算法怎么评价呢？\n",
    "\n",
    "* 将两个算法在同一台计算机上跑一下记录时间和物理资源暂用不就好了？\n",
    "  \n",
    "**局限性**：\n",
    "* 耗费资源\n",
    "* 硬件配置不一样，时间就不一样、消耗的内存也不一样。\n",
    "\n",
    "能不能有一种在纸上就能估算出来的方法呢？有！\n",
    "\n",
    "**定义**：算法复杂度分析描述了当问题规模的增加，算法执行所需的时间和空间的**增长系数**。\n",
    "\n",
    "如果想要在实践中学习如何分析时间复杂度和空间复杂度我们需要先理解迭代和递归。所以我们在这一小节仅仅引入复杂度分析的定义，`第5小结了解迭代与递归`；`第6小结分析算法的时间/空间复杂度`。\n"
   ]
  },
  {
   "cell_type": "markdown",
   "metadata": {},
   "source": [
    "## 1.5 重要工具：迭代与递归"
   ]
  },
  {
   "cell_type": "markdown",
   "metadata": {},
   "source": [
    "计算机编程语言Python、Java、C等，基本都支持迭代和递归。它是是我们解决问题的重要工具，你将在各个分治、动态规划、回溯等算法中都能看到它，理解它有助于我们分析和解决问题。**算法是一种逻辑思维、程序语言是一种工具，两者是独立的，不要被语言束缚。你可以用任何一种语言实现你的逻辑思维**"
   ]
  },
  {
   "cell_type": "markdown",
   "metadata": {},
   "source": [
    "### 1.5.1 迭代"
   ]
  },
  {
   "cell_type": "markdown",
   "metadata": {},
   "source": [
    "迭代指一种程序控制结构，程序在满足给定的条件下重复的执行某段代码的行为，直到不满足条件为止。Python中常用的迭代控制结构有`for`、`while`循环。"
   ]
  },
  {
   "cell_type": "code",
   "execution_count": 6,
   "metadata": {},
   "outputs": [
    {
     "name": "stdout",
     "output_type": "stream",
     "text": [
      "[1, 4, 9, 16]\n"
     ]
    }
   ],
   "source": [
    "# for循环\n",
    "arr = [1,2,3,4]\n",
    "for i in range(len(arr)):\n",
    "    arr[i] = arr[i]**2\n",
    "print(arr)"
   ]
  },
  {
   "cell_type": "code",
   "execution_count": 9,
   "metadata": {},
   "outputs": [
    {
     "name": "stdout",
     "output_type": "stream",
     "text": [
      "[1, 4, 25]\n"
     ]
    }
   ],
   "source": [
    "# while循环\n",
    "res = []\n",
    "i = 0\n",
    "while i<10:\n",
    "    i = i+1\n",
    "    i = i**2\n",
    "    res.append(i)\n",
    "print(res)"
   ]
  },
  {
   "cell_type": "markdown",
   "metadata": {},
   "source": [
    "从结构上看 `while` 的自由度更高，可以灵活的设计进入和跳出循环的条件，使用的时候要灵活的选择。"
   ]
  },
  {
   "cell_type": "markdown",
   "metadata": {},
   "source": [
    "### 1.5.2 递归"
   ]
  },
  {
   "cell_type": "markdown",
   "metadata": {},
   "source": [
    "指程序调用自身，包括了 `递` 和 `归` 两个过程"
   ]
  },
  {
   "cell_type": "markdown",
   "metadata": {},
   "source": [
    "* **递**：程序不断调用自身的过程\n",
    "* **归**：到达递过程的最深处，开始逐级返回的过程\n",
    "\n",
    "写递归程序的重点：\n",
    "\n",
    "* **递归调用**：调用自身的代码\n",
    "* **终止条件**：程序的出口，这是递转归的重要条件，如果程序一直找不到出口，那么程序会一直调用下去，直到达到调用栈的最大深度。\n",
    "* **返回结果**：在归的过程中将结果逐级返回"
   ]
  },
  {
   "cell_type": "markdown",
   "metadata": {},
   "source": [
    "注意递归调用是非常耗费资源的，每次调用都要保存调用函数的当前状态，以保证在调用结束后程序能够恢复当前状态继续执行（其实也是保证了归这个过程顺利执行），很多系统设置了最大的调用栈的深度。"
   ]
  },
  {
   "cell_type": "markdown",
   "metadata": {},
   "source": [
    "典型的递归调用的例子是 `fibonacci数列` 第 `n` 项是第 `n-1` 和 `n-2` 项的和 即：$fib(n)=fib(n-1)+fib(n-2)$, 其中 $fib(1)=fib(2)=1$ 求当给定任意数字 n 时 $fib(n)$ 的值。"
   ]
  },
  {
   "cell_type": "code",
   "execution_count": null,
   "metadata": {},
   "outputs": [
    {
     "name": "stdout",
     "output_type": "stream",
     "text": [
      "55\n"
     ]
    }
   ],
   "source": [
    "# 求fibonacci数列第n项的值\n",
    "def fib_recur(n):\n",
    "    # 程序出口\n",
    "    if n==1 or n==2:\n",
    "        return 1\n",
    "    # 递归调用\n",
    "    res = fib_recur(n-1)+fib_recur(n-2)\n",
    "    # 返回结果\n",
    "    return res\n",
    "print(fib_recur(10))"
   ]
  },
  {
   "cell_type": "markdown",
   "metadata": {},
   "source": [
    "理解递归调用的过程："
   ]
  },
  {
   "cell_type": "markdown",
   "metadata": {},
   "source": [
    "<img src=\"./recur.png\" >"
   ]
  },
  {
   "cell_type": "markdown",
   "metadata": {},
   "source": [
    "递归调用栈分析："
   ]
  },
  {
   "cell_type": "markdown",
   "metadata": {},
   "source": [
    "<img src=\"./fib.png\">"
   ]
  },
  {
   "cell_type": "markdown",
   "metadata": {},
   "source": [
    "我们发现递归的调用过程中存在着很多的重复计算，其实递归就是一个暴力求解的过程，它的时间、空间复杂度都很低，但是很多算法是基于它优化得来的，其中一个非常常用的优化策略就是**剪枝**，例如在上述图中我们将已经重复计算的 $fib(3) 、fib(4)$ 存储起来，用到的时候直接拿出来用，不用再重复计算，这样就提高时间复杂度，虽然空间复杂度上升了但是在可接受范围内，毕竟存储器比时间要便宜。具体代码如下："
   ]
  },
  {
   "cell_type": "code",
   "execution_count": 25,
   "metadata": {},
   "outputs": [
    {
     "name": "stdout",
     "output_type": "stream",
     "text": [
      "55\n",
      "[-1, -1, -1, 2, 3, 5, 8, 13, 21, 34, 55]\n"
     ]
    }
   ],
   "source": [
    "def fib_table(n, table):\n",
    "    if n==1 or n==2:\n",
    "        return 1\n",
    "    # 剪枝策略，减少重复递归计算\n",
    "    elif table[n]!=-1:\n",
    "        return table[n]\n",
    "    res = fib_table(n-1, table)+fib_table(n-2, table)\n",
    "    table[n] = res # 记录已经求得值\n",
    "    return res\n",
    "n = 10\n",
    "table = [-1]*(n+1)\n",
    "print(fib_table(n, table))\n",
    "print(table)"
   ]
  },
  {
   "cell_type": "markdown",
   "metadata": {},
   "source": [
    "我们得到了斐波那契数列的递推公式，那能不能根据递推公式从 $fib(1)$ $fib(2)$ 递推得到 $fib(n)$ 呢？："
   ]
  },
  {
   "cell_type": "code",
   "execution_count": 7,
   "metadata": {},
   "outputs": [
    {
     "name": "stdout",
     "output_type": "stream",
     "text": [
      "55\n"
     ]
    }
   ],
   "source": [
    "def fib_dp(n):\n",
    "    dp_table = [0]*(n+1)\n",
    "    dp_table[1], dp_table[2] = 1,1\n",
    "    for i in range(3,len(dp_table)):\n",
    "        dp_table[i] = dp_table[i-1]+dp_table[i-2]\n",
    "    return dp_table[n]\n",
    "print(fib_dp(10))"
   ]
  },
  {
   "cell_type": "markdown",
   "metadata": {},
   "source": [
    "上面递推的过程和递归`归`的过程非常相似！！这个就是斐波那契数列的迭代版本。那还有优化的空间吗，从上述代码我们直到，求 $fib(n)$ 时，我们只用到了 $fib(n-1)$ $fib(n-2)$。所以其实只用三个值就能完成递推的过程。"
   ]
  },
  {
   "cell_type": "code",
   "execution_count": 6,
   "metadata": {},
   "outputs": [
    {
     "name": "stdout",
     "output_type": "stream",
     "text": [
      "55\n"
     ]
    }
   ],
   "source": [
    "# 双指针\n",
    "def fib_doublePoint(n):\n",
    "    p,q = 1,1\n",
    "    for _ in range(3, n+1):\n",
    "        k = p+q\n",
    "        p = q\n",
    "        q = k\n",
    "    return k\n",
    "print(fib_doublePoint(10))\n"
   ]
  },
  {
   "cell_type": "code",
   "execution_count": 33,
   "metadata": {},
   "outputs": [
    {
     "name": "stdout",
     "output_type": "stream",
     "text": [
      "fib_recur | 结果：9227465 | 时间：6.8539 sec\n",
      "fib_table | 结果：9227465 | 时间：0.0 sec\n",
      "fib_dp | 结果：9227465 | 时间：0.0005 sec\n",
      "fib_doublePoint| 结果：9227465 | 时间：0.0 sec\n"
     ]
    }
   ],
   "source": [
    "# 时间测试\n",
    "import time\n",
    "n = 35\n",
    "\n",
    "t1 = time.time()\n",
    "res_recur = fib_recur(n)\n",
    "t2 = time.time()\n",
    "print(f\"fib_recur | 结果：{res_recur} | 时间：{round(t2-t1,4)} sec\")\n",
    "\n",
    "table = [-1]*(n+1)\n",
    "t3 = time.time()\n",
    "res_tab = fib_table(n, table)\n",
    "t4 = time.time()\n",
    "print(f\"fib_table | 结果：{res_tab} | 时间：{round(t4-t3,4)} sec\")\n",
    "\n",
    "t5 = time.time()\n",
    "res_tab = fib_dp(n)\n",
    "t6 = time.time()\n",
    "print(f\"fib_dp | 结果：{res_tab} | 时间：{round(t6-t5,4)} sec\")\n",
    "\n",
    "t7 = time.time()\n",
    "res_tab = fib_doublePoint(n)\n",
    "t8 = time.time()\n",
    "print(f\"fib_doublePoint| 结果：{res_tab} | 时间：{round(t8-t7,4)} sec\")"
   ]
  },
  {
   "cell_type": "markdown",
   "metadata": {},
   "source": [
    "### 1.5.3 思考\n",
    "1. `递归`和`迭代`是计算机程序语言提供的用于重复计算（重复执行某个代码块）的重要工具，计算机本来就是一个善于暴力求解问题的工具。\n",
    "2. 递归 `递` 这个阶段可以看作是搜索的过程，直到找到基本解（base case），也就是程序的出口；`归`这个过程是求解的过程，基于基本解递推得到最终解。\n",
    "3. 对于后面将要学习的重要算法思想，比如： `回溯`、`分治`、`动态规划` 都可以通过递归实现。\n",
    "4. 很多问题都可以通过递归实现暴力求解，高效的算法都是在暴力求解的基础上减少重复计算：比如回溯算法的剪枝过程。\n",
    "5. 解决问题的时候一定要注意这个问题有没有： **重复子结构** 和 **最优子问题**，因为前者适合递归、后者适合动态规划\n",
    "6. 总而言之，在接下来的算法之旅中我尽量从 递归暴力求解——>分析优化——>迭代求解，整个过程慢慢理解什么是算法！！！"
   ]
  },
  {
   "cell_type": "markdown",
   "metadata": {},
   "source": [
    "## 1.6 时/空间复杂度分析"
   ]
  },
  {
   "cell_type": "markdown",
   "metadata": {},
   "source": [
    "### 6.1 时间复杂度"
   ]
  },
  {
   "cell_type": "markdown",
   "metadata": {},
   "source": [
    "时间复杂度分析统计的不是算法运行时间，而是算法运行时间随着数据量变大时的**增长趋势**"
   ]
  },
  {
   "cell_type": "markdown",
   "metadata": {},
   "source": [
    "### 6.2 空间复杂度"
   ]
  },
  {
   "cell_type": "markdown",
   "metadata": {},
   "source": [
    "空间复杂度（space complexity）用于衡量算法占用内存空间随着数据量变大时的**增长趋势**"
   ]
  },
  {
   "cell_type": "markdown",
   "metadata": {},
   "source": [
    "# 二、数据结构"
   ]
  },
  {
   "cell_type": "markdown",
   "metadata": {},
   "source": [
    "## 2.1 顺序结构"
   ]
  },
  {
   "cell_type": "markdown",
   "metadata": {},
   "source": [
    "### 2.1.1 数组"
   ]
  },
  {
   "cell_type": "markdown",
   "metadata": {},
   "source": [
    "[螺旋矩阵II](https://leetcode.cn/problems/spiral-matrix-ii/description/)\n",
    "\n",
    "给定一个正整数 n，生成一个包含 1 到 n^2 所有元素，且元素按顺时针顺序螺旋排列的正方形矩阵。\n",
    "\n",
    "示例:\n",
    "\n",
    "输入: 3 输出: [ [ 1, 2, 3 ], [ 8, 9, 4 ], [ 7, 6, 5 ] ]\n",
    "\n",
    "<img src=\"./lxjz.png\" style=\"width:150px\">"
   ]
  },
  {
   "cell_type": "markdown",
   "metadata": {},
   "source": []
  },
  {
   "cell_type": "code",
   "execution_count": null,
   "metadata": {},
   "outputs": [],
   "source": []
  },
  {
   "cell_type": "markdown",
   "metadata": {},
   "source": [
    "### 2.1.2 链表"
   ]
  },
  {
   "cell_type": "markdown",
   "metadata": {},
   "source": [
    "### 2.1.3 栈"
   ]
  },
  {
   "cell_type": "markdown",
   "metadata": {},
   "source": [
    "### 2.1.4 队列"
   ]
  },
  {
   "cell_type": "markdown",
   "metadata": {},
   "source": [
    "### 2.1.5 字符串"
   ]
  },
  {
   "cell_type": "markdown",
   "metadata": {},
   "source": [
    "## 2.2 树形结构"
   ]
  },
  {
   "cell_type": "markdown",
   "metadata": {},
   "source": [
    "### 2.2.1 二叉树"
   ]
  },
  {
   "cell_type": "markdown",
   "metadata": {},
   "source": [
    "### 2.2.1 堆"
   ]
  },
  {
   "cell_type": "markdown",
   "metadata": {},
   "source": [
    "## 2.3 哈希表"
   ]
  },
  {
   "cell_type": "markdown",
   "metadata": {},
   "source": [
    "## 2.4 图结构"
   ]
  },
  {
   "cell_type": "markdown",
   "metadata": {},
   "source": [
    "# 三、算法"
   ]
  },
  {
   "cell_type": "markdown",
   "metadata": {},
   "source": [
    "### 3.1 回溯 "
   ]
  },
  {
   "cell_type": "markdown",
   "metadata": {},
   "source": [
    "#### 3.1.1 回溯算法简介"
   ]
  },
  {
   "cell_type": "markdown",
   "metadata": {},
   "source": [
    "* 回溯算法（backtracking algorithm）是一种通过穷举来解决问题的方法，它的核心思想是从一个初始状态出发，暴力搜索所有可能的解决方案，当遇到正确的解则将其记录，直到找到解或者尝试了所有可能的选择都无法找到解为止。回溯算法通常采用“深度优先搜索”来遍历解空间。在“二叉树”章节中，我们提到前序、中序和后序遍历都属于深度优先搜索。接下来，我们利用前序遍历构造一个回溯问题，逐步了解回溯算法的工作原理。"
   ]
  },
  {
   "cell_type": "code",
   "execution_count": 4,
   "metadata": {},
   "outputs": [],
   "source": [
    "# 定义二叉树\n",
    "class Node:\n",
    "    def __init__(self,v, ln=None, rn=None):\n",
    "        self.left = ln\n",
    "        self.right = rn\n",
    "        self.val = v\n",
    "\n",
    "    def __str__(self):\n",
    "        return f\"node:{self.val}\" \n",
    "node1 = Node(1)\n",
    "node2 = Node(2)\n",
    "node3 = Node(3)\n",
    "node4 = Node(4)\n",
    "node5 = Node(5)\n",
    "node6 = Node(6)\n",
    "node7 = Node(7)\n",
    "node1.left = node2\n",
    "node1.right = node3\n",
    "node2.left = node4\n",
    "node2.right = node5\n",
    "node3.left = node6\n",
    "node3.right = node7"
   ]
  },
  {
   "cell_type": "markdown",
   "metadata": {},
   "source": [
    "先序遍历二叉树并记录访问顺序"
   ]
  },
  {
   "cell_type": "code",
   "execution_count": 9,
   "metadata": {},
   "outputs": [
    {
     "name": "stdout",
     "output_type": "stream",
     "text": [
      "['node:1', 'node:2', 'node:4', 'node:5', 'node:3', 'node:6', 'node:7']\n"
     ]
    }
   ],
   "source": [
    "def pre_traverse(root, arr):\n",
    "    if not root:\n",
    "        return \n",
    "    arr.append(str(root))\n",
    "    pre_traverse(root.left, arr)\n",
    "    pre_traverse(root.right, arr)\n",
    "\n",
    "arr = []\n",
    "pre_traverse(node1, arr)\n",
    "print(arr)"
   ]
  },
  {
   "cell_type": "markdown",
   "metadata": {},
   "source": [
    "返回目标值的路径"
   ]
  },
  {
   "cell_type": "code",
   "execution_count": 17,
   "metadata": {},
   "outputs": [
    {
     "name": "stdout",
     "output_type": "stream",
     "text": [
      "[['node:1', 'node:3', 'node:7']]\n"
     ]
    }
   ],
   "source": [
    "def pre_traverse(root):\n",
    "    if not root:\n",
    "        return\n",
    "    path.append(str(root)) # 记录当前正在处理的节点\n",
    "    if root.val in targets: # 符合条件就加入results\n",
    "        reluts.append(list(path))\n",
    "    pre_traverse(root.left) # 处理左节点（重复子结构问题）\n",
    "    pre_traverse(root.right) # 处理右节点（重复子结构问题）\n",
    "    path.pop() # 当前处理节点完毕弹出（回退）\n",
    "    \n",
    "reluts = [] # 记录结果\n",
    "path = [] # \n",
    "targets = [7]\n",
    "pre_traverse(node1)\n",
    "print(reluts)"
   ]
  },
  {
   "cell_type": "markdown",
   "metadata": {},
   "source": [
    "#### 3.1.2 全排列 I"
   ]
  },
  {
   "cell_type": "markdown",
   "metadata": {},
   "source": [
    "[D-083. 全排列 I](https://leetcode.cn/problems/VvJkup/)： 给定一个不含重复数字的整数数组 nums ，返回其 所有可能的全排列 。可以 按任意顺序 返回答案。"
   ]
  },
  {
   "cell_type": "code",
   "execution_count": null,
   "metadata": {},
   "outputs": [
    {
     "name": "stdout",
     "output_type": "stream",
     "text": [
      "[[1, 3, 5], [1, 5, 3], [3, 1, 5], [3, 5, 1], [5, 1, 3], [5, 3, 1]]\n"
     ]
    }
   ],
   "source": [
    "def solution(nums):\n",
    "    def func(nums,state):\n",
    "        if len(nums)==0: # 程序出口\n",
    "            results.append(list(state))\n",
    "            return\n",
    "        for i,n in enumerate(nums):\n",
    "            # 做出本轮选择后改变状态\n",
    "            state.append(n) \n",
    "            new_nums = nums[:i]+nums[i+1:] \n",
    "            # 下一轮选择\n",
    "            func(new_nums, state) \n",
    "            # 回退到做出本轮选择前的状态\n",
    "            state.pop()\n",
    "    results = []\n",
    "    choices = nums\n",
    "    state = []\n",
    "    func(choices, state)\n",
    "    return results\n",
    "import random\n",
    "nums = [random.randint(0,100) for _ in range(3)]\n",
    "solution(nums)"
   ]
  },
  {
   "cell_type": "markdown",
   "metadata": {},
   "source": [
    "#### 3.1.2 全排列II"
   ]
  },
  {
   "cell_type": "markdown",
   "metadata": {},
   "source": [
    "[全排列 II ](https://leetcode.cn/problems/7p8L0Z/): 给定一个可包含重复数字的整数集合 nums ，按任意顺序 返回它所有不重复的全排列。"
   ]
  },
  {
   "cell_type": "code",
   "execution_count": null,
   "metadata": {},
   "outputs": [
    {
     "name": "stdout",
     "output_type": "stream",
     "text": [
      "1\n"
     ]
    }
   ],
   "source": [
    "def solution(nums):\n",
    "    def func(nums,state):\n",
    "        if len(nums)==0:\n",
    "            results.append(list(state))\n",
    "            return\n",
    "        selected_nums = [] # 记录本轮已经做过的选择\n",
    "        for i, n in enumerate(nums):\n",
    "            if n not in selected_nums: # 剪枝：去掉重复选择\n",
    "                # 做出当前选择后改变状态\n",
    "                selected_nums.append(n)\n",
    "                state.append(n)\n",
    "                new_nums = nums[:i]+nums[i+1:]\n",
    "                # 进行下一轮选择\n",
    "                func(new_nums, state)\n",
    "                # 回退\n",
    "                state.pop()\n",
    "        \n",
    "    results = []\n",
    "    state = []\n",
    "    choices = nums\n",
    "    func(choices, state)\n",
    "    return results\n",
    "    \n",
    "print(len(solution([1,1])))"
   ]
  },
  {
   "cell_type": "markdown",
   "metadata": {},
   "source": [
    "回溯算法算法的过程：主要包括了 `choices` `states` 变量，整个程序也是对这两个变量读写，其他的变量都是对程序优化、业务需求添加的。\n",
    "\n",
    "1. **程序出口**：判断当前节点是否符合处理的条件（递归程序出口）\n",
    "\n",
    "2. **做出当前选择前**：比如剪枝：判断该次选择是否是重复计算\n",
    "\n",
    "3. **做出当前选择后**：改变`choices` `states`，为子问题做准备\n",
    "\n",
    "4. **处理子问题**：注意根据题目要求确定子问题的输入（递推公式）\n",
    "\n",
    "5. **子问题处理结束后**:恢复做出选择前的状态"
   ]
  },
  {
   "cell_type": "markdown",
   "metadata": {},
   "source": [
    "#### 3.1.3 合法括号生成"
   ]
  },
  {
   "cell_type": "markdown",
   "metadata": {},
   "source": [
    "[合法括号生成](https://leetcode.cn/problems/IDBivT/description/): 正整数 n 代表生成括号的对数，请设计一个函数，用于能够生成所有可能的并且 有效的 括号组合。"
   ]
  },
  {
   "cell_type": "code",
   "execution_count": 35,
   "metadata": {},
   "outputs": [
    {
     "name": "stdout",
     "output_type": "stream",
     "text": [
      "['((()))', '(()())', '(())()', '()(())', '()()()']\n"
     ]
    }
   ],
   "source": [
    "# 暴力搜索\n",
    "def solution(n):\n",
    "    def func(choices, states):\n",
    "        if len(states) == 2*n:\n",
    "            if is_valid(states):\n",
    "                results.append(\"\".join(states))\n",
    "            return \n",
    "        for c in choices:\n",
    "            states.append(c) # 改变状态\n",
    "            func(choices,states) # 处理子问题\n",
    "            states.pop() # 回退\n",
    "        \n",
    "    def is_valid(states):\n",
    "        stack = []\n",
    "        for i in range(0, len(states)):\n",
    "            if len(stack)==0:\n",
    "                stack.append(states[i])\n",
    "                continue\n",
    "            if stack[-1]+states[i]==\"()\":\n",
    "                stack.pop()\n",
    "                continue\n",
    "            if stack[-1]+states[i]!=\"()\":\n",
    "                stack.append(states[i])\n",
    "                continue\n",
    "        return True if len(stack)==0 else False\n",
    "            \n",
    "    choices = [\"(\",\")\"]\n",
    "    states = []\n",
    "    results = []\n",
    "    func(choices, states)\n",
    "    return results\n",
    "\n",
    "print(solution(n=3))"
   ]
  },
  {
   "cell_type": "code",
   "execution_count": null,
   "metadata": {},
   "outputs": [
    {
     "name": "stdout",
     "output_type": "stream",
     "text": [
      "['((()))', '(()())', '(())()', '()(())', '()()()']\n"
     ]
    }
   ],
   "source": [
    "# 暴力搜索+剪枝\n",
    "def solution(n):\n",
    "    def func(choices, states):\n",
    "        if len(states) == 2*n:\n",
    "            if is_valid(states):\n",
    "                results.append(\"\".join(states))\n",
    "            return \n",
    "        for c in choices:\n",
    "            if states.count(c)<n: # 控制符合的数目\n",
    "                states.append(c) # 改变状态\n",
    "                func(choices,states) # 处理子问题\n",
    "                states.pop() # 回退\n",
    "        \n",
    "    def is_valid(states):\n",
    "        stack = []\n",
    "        for i in range(0, len(states)):\n",
    "            if len(stack)==0:\n",
    "                stack.append(states[i])\n",
    "                continue\n",
    "            if stack[-1]+states[i]==\"()\":\n",
    "                stack.pop()\n",
    "                continue\n",
    "            if stack[-1]+states[i]!=\"()\":\n",
    "                stack.append(states[i])\n",
    "                continue\n",
    "        return True if len(stack)==0 else False\n",
    "            \n",
    "    choices = [\"(\",\")\"]\n",
    "    states = []\n",
    "    results = []\n",
    "    func(choices, states)\n",
    "    return results\n",
    "\n",
    "print(solution(n=3))\n",
    "\n"
   ]
  },
  {
   "cell_type": "code",
   "execution_count": null,
   "metadata": {},
   "outputs": [
    {
     "name": "stdout",
     "output_type": "stream",
     "text": [
      "['((()))', '(()())', '(())()', '()(())', '()()()']\n"
     ]
    }
   ],
   "source": [
    "# 暴力搜索+剪枝\n",
    "def solution(n):\n",
    "    def func(choices, states):\n",
    "        if len(states) == 2*n:\n",
    "            # if is_valid(states):\n",
    "            results.append(\"\".join(states))\n",
    "            return \n",
    "        for c in choices:\n",
    "            new_state = states+[c]\n",
    "            if new_state.count(c)<=n and new_state.count(\"(\")>=new_state.count(\")\"): # 剪枝\n",
    "                states.append(c) # 改变状态\n",
    "                func(choices,states) # 处理子问题\n",
    "                states.pop() # 回退    \n",
    "    choices = [\"(\",\")\"]\n",
    "    states = []\n",
    "    results = []\n",
    "    func(choices, states)\n",
    "    return results\n",
    "\n",
    "print(solution(n=3))\n",
    "\n"
   ]
  },
  {
   "cell_type": "markdown",
   "metadata": {},
   "source": [
    "### 3.2 分治"
   ]
  },
  {
   "cell_type": "markdown",
   "metadata": {},
   "source": [
    "#### 3.2.1 二分查找"
   ]
  },
  {
   "cell_type": "code",
   "execution_count": null,
   "metadata": {},
   "outputs": [
    {
     "name": "stdout",
     "output_type": "stream",
     "text": [
      "6\n"
     ]
    }
   ],
   "source": [
    "def binary_search(nums, target, start, end):\n",
    "    mid = (start+end)//2\n",
    "    if nums[mid]==target:\n",
    "        return mid\n",
    "    if nums[mid]<target:\n",
    "        return binary_search(nums, target, mid+1, end)\n",
    "    if nums[mid]>target:\n",
    "        return binary_search(nums, target, start, mid-1)\n",
    "\n",
    "nums = [1,2,3,4,5,6,7,8]\n",
    "print(binary_search(nums, 7, 0, len(nums)-1))"
   ]
  },
  {
   "cell_type": "markdown",
   "metadata": {},
   "source": [
    "### 3.3 贪心"
   ]
  },
  {
   "cell_type": "markdown",
   "metadata": {},
   "source": [
    "[零钱兑换](https://leetcode.cn/problems/coin-change/description/)：给你一个整数数组 `coins` ，表示不同面额的硬币；以及一个整数 `amount` ，表示总金额。计算并返回可以凑成总金额所需的最少的硬币个数。如果没有任何一种硬币组合能组成总金额，返回 -1 。你可以认为每种硬币的数量是无限的。"
   ]
  },
  {
   "cell_type": "code",
   "execution_count": null,
   "metadata": {},
   "outputs": [
    {
     "name": "stdout",
     "output_type": "stream",
     "text": [
      "3\n"
     ]
    }
   ],
   "source": [
    "# 每次选择小于等于amount的最大面值的coins\n",
    "def coin_change_greedy(coins, amount):\n",
    "    coins = sorted(coins)\n",
    "    count = 0\n",
    "    i = len(coins)-1\n",
    "    while i>=0 and amount>=0:\n",
    "        if coins[i]>amount:\n",
    "            i-=1\n",
    "            continue\n",
    "        amount-=coins[i]\n",
    "        count+=1\n",
    "    return count if amount==0 else -1\n",
    "\n",
    "coins = [1,3,5] \n",
    "amount = 11  \n",
    "# coins = [186,419,83,408]\n",
    "# amount = 6249\n",
    "print(coin_change_greedy(coins, amount))"
   ]
  },
  {
   "cell_type": "markdown",
   "metadata": {},
   "source": [
    "我们已经看到了贪心算法在每一步选择当前最优的解，并不考虑对后续选择的影响，所以贪心算法通常得到的是次优解。"
   ]
  },
  {
   "cell_type": "markdown",
   "metadata": {},
   "source": [
    "### 3.4 动态规划"
   ]
  },
  {
   "cell_type": "markdown",
   "metadata": {},
   "source": [
    "[零钱兑换](https://leetcode.cn/problems/coin-change/description/)：给你一个整数数组 `coins` ，表示不同面额的硬币；以及一个整数 `amount` ，表示总金额。计算并返回可以凑成总金额所需的最少的硬币个数。如果没有任何一种硬币组合能组成总金额，返回 -1 。你可以认为每种硬币的数量是无限的。"
   ]
  },
  {
   "cell_type": "code",
   "execution_count": null,
   "metadata": {},
   "outputs": [],
   "source": [
    "# 暴力搜索\n",
    "def coins_change_violence(coins, states):\n",
    "    if sum(states)>=amount:\n",
    "        if sum(states)==amount:\n",
    "            results.append(list(states))\n",
    "        return\n",
    "    for c in coins: # \n",
    "        states.append(c) # 修改当前状态做出当前选择\n",
    "        coins_change_violence(coins, states) # 进行下一轮选择\n",
    "        states.pop() # 回退选择前的状态尝试下一次选择\n",
    "\n",
    "results = []\n",
    "# amount = 14\n",
    "# coins = [1,3,5]\n",
    "coins = [186,419,83,408]\n",
    "amount = 6249\n",
    "states = []\n",
    "coins_change_violence(coins, states)\n",
    "# print(results) \n",
    "\n",
    "# 找到最优解\n",
    "min_length = float(\"inf\")\n",
    "for item in results:\n",
    "    if len(item)<min_length:\n",
    "        min_length = len(item)\n",
    "print(min_length)"
   ]
  },
  {
   "cell_type": "markdown",
   "metadata": {},
   "source": [
    "想一想 当 `amount=11` `coins=[1,3,5]` 最优解等于`min(solution(11-5)+1, solution(11-3)+1, solution(11-1)+1)` 所以这个问题是有最优子结构的。"
   ]
  },
  {
   "cell_type": "code",
   "execution_count": 37,
   "metadata": {},
   "outputs": [
    {
     "name": "stdout",
     "output_type": "stream",
     "text": [
      "5\n"
     ]
    }
   ],
   "source": [
    "# 利用最优子结构\n",
    "def solution_sub_task(coins, amount):\n",
    "    def coins_change_dp(coins, amount):\n",
    "        # 程序的出口，如果将搜索过程表示为一棵树，\n",
    "        # 那么程序的出口也可以看作是搜索树的叶子结点\n",
    "        if amount == 0: \n",
    "            return 0\n",
    "        if amount < 0:\n",
    "            return -1\n",
    "        # 当前节点的最优解\n",
    "        results = float(\"inf\") \n",
    "        for c in coins: # 做出当前选择\n",
    "            n = coins_change_dp(coins, amount-c) # 获取子问题答案\n",
    "            if n!=-1: # 根据子问题解更新当前节点的解（动态规划的地推公式）\n",
    "                results = min(n+1, results)\n",
    "        return results if results!=float(\"inf\") else -1 # 返回当前节点的解\n",
    "    return coins_change_dp(coins, amount)\n",
    "\n",
    "amount = 17\n",
    "coins = [1,3,5]\n",
    "print(solution_sub_task(coins, amount))"
   ]
  },
  {
   "cell_type": "code",
   "execution_count": 38,
   "metadata": {},
   "outputs": [
    {
     "name": "stdout",
     "output_type": "stream",
     "text": [
      "5\n"
     ]
    }
   ],
   "source": [
    "# 上述方法本质上和暴力搜索没有区别，并没有在搜索树上进行裁剪\n",
    "# 都搜索到了叶子结点，并存在重复计算\n",
    "# 带memo的动态规划，减少重复计算\n",
    "def solution_memo(coins, amount):\n",
    "    def coins_change_dp_memo(coins, amount):\n",
    "        # 叶子结点解\n",
    "        if amount==0:\n",
    "            return 0\n",
    "        if amount<0:\n",
    "            return -1\n",
    "        # 若该值已经被计算过\n",
    "        if memo[amount]!=-1:\n",
    "            return memo[amount]\n",
    "        result = float(\"inf\")\n",
    "        for c in coins:\n",
    "            n = coins_change_dp_memo(coins, amount-c)\n",
    "            if n!=-1:\n",
    "                result = min(n+1, result)\n",
    "        # 计算得到计算结果后更新到memo上\n",
    "        if result!=float(\"inf\"):\n",
    "            memo[amount] = result \n",
    "        return result if result!=float(\"inf\") else -1\n",
    "    memo = [-1]*(amount+1)\n",
    "    return coins_change_dp_memo(coins, amount)\n",
    "\n",
    "amount = 17\n",
    "coins = [1,3,5]\n",
    "# coins = [186,419,83,408]\n",
    "# amount = 6249\n",
    "print(solution_memo(coins, amount))\n"
   ]
  },
  {
   "cell_type": "code",
   "execution_count": 36,
   "metadata": {},
   "outputs": [
    {
     "name": "stdout",
     "output_type": "stream",
     "text": [
      "20\n"
     ]
    }
   ],
   "source": [
    "# dp_table迭代\n",
    "def solution_dp_table(coins, amount):\n",
    "    def coins_change_dp(coins):\n",
    "        for i in range(1, len(table)):\n",
    "            res = float(\"inf\")\n",
    "            for c in coins:\n",
    "                j = i-c\n",
    "                if j>=0:\n",
    "                    res = min(res, table[j]+1)\n",
    "            if res!=float(\"inf\"):\n",
    "                table[i]=res\n",
    "    # 初始化table\n",
    "    table = [float(\"inf\")]*(amount+1)\n",
    "    table[0] = 0\n",
    "    # 递推：假设<i的值都为最优解，那么i的值就是i-coins的最小值+1\n",
    "    coins_change_dp(coins)\n",
    "    return table[amount]\n",
    "\n",
    "amount = 20\n",
    "coins = [1,3,5] \n",
    "coins = [186,419,83,408]\n",
    "amount = 6249\n",
    "print(solution_dp_table(coins, amount))"
   ]
  },
  {
   "cell_type": "markdown",
   "metadata": {},
   "source": [
    "[爬楼梯](https://leetcode.cn/problems/climbing-stairs/description/)：假设你正在爬楼梯。需要 n 阶你才能到达楼顶。每次你可以爬 1 或 2 个台阶。你有多少种不同的方法可以爬到楼顶呢？"
   ]
  },
  {
   "cell_type": "code",
   "execution_count": 5,
   "metadata": {},
   "outputs": [
    {
     "name": "stdout",
     "output_type": "stream",
     "text": [
      "5\n"
     ]
    }
   ],
   "source": [
    "def climbStairs(n):\n",
    "    if n==1 or n==2:\n",
    "        return n\n",
    "    return climbStairs(n-1)+climbStairs(n-2)\n",
    "\n",
    "n = 4\n",
    "print(climbStairs(n))"
   ]
  },
  {
   "cell_type": "markdown",
   "metadata": {},
   "source": [
    "# 四、应用"
   ]
  },
  {
   "cell_type": "markdown",
   "metadata": {},
   "source": [
    "### 4.1 排序"
   ]
  },
  {
   "cell_type": "markdown",
   "metadata": {},
   "source": [
    "#### 快速排序"
   ]
  },
  {
   "cell_type": "code",
   "execution_count": null,
   "metadata": {},
   "outputs": [
    {
     "name": "stdout",
     "output_type": "stream",
     "text": [
      "[41, 4, 69, 37, 98, 20, 91, 62, 72, 39]\n",
      "[4, 20, 37, 39, 41, 62, 69, 72, 91, 98]\n"
     ]
    }
   ],
   "source": [
    "import random\n",
    "\n",
    "def quick_sort(arr): # 递归分治\n",
    "    if len(arr)<=1:\n",
    "        return arr\n",
    "    mid = [a for a in arr if a == arr[len(arr)//2]]\n",
    "    left = [a for a in arr if a<arr[len(arr)//2]]\n",
    "    right = [a for a in arr if a>arr[len(arr)//2]]\n",
    "    return quick_sort(left)+mid+quick_sort(right)\n",
    "arr = [random.randint(0, 100) for _ in range(10)]\n",
    "print(arr)\n",
    "print(quick_sort(arr))"
   ]
  },
  {
   "cell_type": "code",
   "execution_count": null,
   "metadata": {},
   "outputs": [
    {
     "name": "stdout",
     "output_type": "stream",
     "text": [
      "[76, 77, 61, 92, 61, 82, 41, 73, 39, 62]\n",
      "[39, 41, 61, 61, 62, 73, 76, 77, 82, 92]\n"
     ]
    }
   ],
   "source": [
    "import random\n",
    "\n",
    "def quick_sort_inplace(arr, left, right):\n",
    "        if left>=right: # 数组长度为1不用排序\n",
    "            return \n",
    "        idx = split(arr, left, right)\n",
    "        quick_sort_inplace(arr, left, idx-1)\n",
    "        quick_sort_inplace(arr, idx+1, right)\n",
    "\n",
    "def split(arr, left, right):\n",
    "    base = arr[left] # 确定基准\n",
    "    i, j = left+1, left+1 # 利用快慢指针原地移动元素，保证i的左边（不包括i）都是小于base的\n",
    "    while j<=right:\n",
    "        if arr[j]<=base:\n",
    "            arr[i], arr[j] = arr[j], arr[i]\n",
    "            i+=1\n",
    "        j+=1\n",
    "    arr[i-1], arr[left] = arr[left], arr[i-1]   \n",
    "    return i-1\n",
    "arr = [random.randint(0, 100) for _ in range(10)]\n",
    "print(arr)\n",
    "quick_sort_inplace(arr, 0, len(arr)-1)\n",
    "print(arr)"
   ]
  },
  {
   "cell_type": "markdown",
   "metadata": {},
   "source": [
    "### 4.2 搜索"
   ]
  },
  {
   "cell_type": "markdown",
   "metadata": {},
   "source": [
    "### 4.3 双指针"
   ]
  }
 ],
 "metadata": {
  "kernelspec": {
   "display_name": "llmlearn",
   "language": "python",
   "name": "python3"
  },
  "language_info": {
   "codemirror_mode": {
    "name": "ipython",
    "version": 3
   },
   "file_extension": ".py",
   "mimetype": "text/x-python",
   "name": "python",
   "nbconvert_exporter": "python",
   "pygments_lexer": "ipython3",
   "version": "3.9.19"
  }
 },
 "nbformat": 4,
 "nbformat_minor": 2
}
